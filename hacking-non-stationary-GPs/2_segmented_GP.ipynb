{
 "cells": [
  {
   "cell_type": "markdown",
   "metadata": {},
   "source": [
    "# Approach 2: Segmented Gaussian Process\n",
    "\n",
    "   - **Method**: Divide the input space into regions and fit separate GP models (or assign different hyperparameters to different regions).\n",
    "   - **Implementation**: Use a mixture-of-GPs, where different regions have different length-scales.\n",
    "   - **Pros**:\n",
    "     - Explicitly captures local variations.\n",
    "     - Reduces the computational complexity compared to a single large GP.\n",
    "   - **Cons**:\n",
    "     - Requires choosing boundaries or a weighting function.\n",
    "     - Can introduce discontinuities at region boundaries if not carefully designed."
   ]
  },
  {
   "cell_type": "code",
   "execution_count": 1,
   "metadata": {},
   "outputs": [],
   "source": [
    "# Imports\n",
    "\n",
    "import gpytorch\n",
    "import plotly.graph_objects as go\n",
    "import torch\n",
    "from IPython.display import Image\n",
    "from plotly import subplots\n",
    "from sklearn.cluster import KMeans\n",
    "\n",
    "import utils\n",
    "\n",
    "image_type = \"html\"  # html / static"
   ]
  },
  {
   "cell_type": "code",
   "execution_count": 2,
   "metadata": {},
   "outputs": [],
   "source": [
    "# Load input data\n",
    "\n",
    "filename_identifier = \"B\"\n",
    "\n",
    "# Target data files\n",
    "filename_true = f\"data/true_data_{filename_identifier}.csv\"\n",
    "filename_obs = f\"data/observed_data_{filename_identifier}.csv\"\n",
    "\n",
    "# Load as tensors\n",
    "true_x, true_y, obs_x, obs_y = utils.load_true_and_obs_tensors(\n",
    "    filename_true,\n",
    "    filename_obs,\n",
    ")"
   ]
  },
  {
   "cell_type": "code",
   "execution_count": 3,
   "metadata": {},
   "outputs": [
    {
     "data": {
      "application/vnd.plotly.v1+json": {
       "config": {
        "plotlyServerURL": "https://plot.ly"
       },
       "data": [
        {
         "mode": "lines",
         "name": "True Data",
         "type": "scatter",
         "x": {
          "bdata": "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",
          "dtype": "f4"
         },
         "y": {
          "bdata": "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",
          "dtype": "f4"
         }
        },
        {
         "mode": "markers",
         "name": "Observed Data",
         "type": "scatter",
         "x": {
          "bdata": "BgEkPQYBpD43wcI+SAHNPokB9j7RsAI/4fAMP/IwFz/+4B4/ErErPxrRMD8a0TA/O1FFP2iBYT9sEWQ/dTFpP4Vxcz+FcXM/kSF7P89ogT/T+IM/14iGP9sYiT/8mJ0/CpGmPxBpqj8a0bA/JTm3Py1ZvD8zMcA/NXnBP0gBzT9QIdI/WEHXP1qJ2D9ogeE/asniP4tJ9z+Tafw/l/n+P9gsB0DdYApA3gQLQPGMFkDxjBZA9HgYQPbAGUD2wBlABgEkQAqRJkAdGTJAJTk3QCbdN0AoJTlAKck5QC79PEBBKUlAQ3FKQEpJTkBKSU5AUw1UQFzRWUBc0VlAY01eQG21ZEBv/WVAculnQHUxaUB6ZWxAfVFuQIA9cECAPXBAi0l3QJWxfUCYnX9Az7qBQNECg0DUnIRA1JyEQNsYiUDdYIpA4EyMQOJCjUDjOI5A6RCSQOsGk0DsqpNA7U6UQO/olUDwOpZA9MqYQPVumUD9jp5A/jKfQP/Wn0ADcaFABBWiQARnokAGr6NADs+oQBDFqUAQxalAEReqQBZLrUAX761AGJOuQBotsEAbf7BAHRmyQCFXtEAklbZAJou3QC/9vEAvT71AMPO9QDGXvkAy6b5AOWXDQEGFyEBC18hAQ3vJQEN7yUBEH8pARHHKQEZny0BIAc1ASaXNQEmlzUBN489ATofQQFAh0kBTadNAVQPVQFlB10BaN9hAXSPaQGbn30Bm599AaS/hQGol4kBqJeJAa8niQGwb40Bwq+VAdDvoQHUx6UB5wetAfK3tQHyt7UCDhfFAg9fxQIXN8kCHZ/RAigH2QI7j+ECQK/pA0DUCQdGHAkHT+ANB1mkFQdZpBUHXDQZB14gGQdgDB0HZfgdB2nQIQd9WC0HgqAtB4UwMQeHHDEHj5g1B5DgOQeUFD0HlLg9B5qkPQeb7D0HnnxBB558QQennEUHqEBJB6jkSQeo5EkHsLxNB7KoTQe9tFUHwvxVB8BEWQfGMFkHyBxdB9HgYQfTKGEH1RRlB+LYaQfnVG0H7HR1B/TweQf6OHkH+tx5B/zIfQQDXH0E=",
          "dtype": "f4"
         },
         "y": {
          "bdata": "BahUPufEAz44o3q+D6sFvyn1b78PglO/7Dpzv1DcGr+mFMW+xivQPefDjD7574k+jWx2P4l3gj8jwmY/WJlZP65hvj4RUBE/Q/dUPs78UL6B5dm+mNnbvvtB6L7Gmla/OqJnvtVuWD36qBk/uMFZP4LIij8GWIY/pAFVPx//0z6+9oE+ei4yvjZLz74P2Hi/ylpcvwVXJr822Ge+gErpum+jC7/kgTe/FWksv9zzo7/gWp2/gxTEv73HqL+O+r6/bt2gv2ctpb/VAyK/hLSkvmcFSr6Wz/a93+Q7vW4Gnz1MCPY+EV35PmgDBD/CJ6c+njZkPkepnzzuhXm9ITrcvvY8N79V3iy/huRVv0uhlb9dZpe/AzeXv5P2pr+T96q/83vJvyEvoL8heZG/XmCnv4ItwL9esa+/kvjEv06b1L/6/eO/i5Xwv+c67r8Cmg7A1wQTwEQDH8BQ4CXAduAgwGcxIcAqLSvAMdcuwBX9LsAATUXAkiBFwNFzQ8AO3UfAeNVCwKPQWsCjokrAFhJHwCqaUMDqKkXAvLRKwFd5P8DvQ0bA4BNAwF6NOcBFNjfAkLE4wIDqIcCLCSbAYhwawJ8HE8Cztw3A3pz3vyMX8L8CJ/e/I+sEwMirRsDQ4CfAPLYQwCuAHcC+lgXA5Tnhv2lk0r/0eu2/MJIbwPArDsAN/2HAvTRrwFxAUsB0mQvABM+3v3C+A8AsVxjA0NdYwFDj37+k29S/G1kAwO0SHsAl5CrA1NA0wHlaRcBEVFbA4ZD0v7gQxr9nzxHAlUtMwKOOTMCM1RTAzzgSwCpx3b+MW9S/HB4XwNVcUcCc+FTAx0gEwAMVBcBJmwrAUAcSwCTTCsAF9RbAERsPwPn5FsB3sg3AOnkOwImcIMBD1SLAGHoPwDT5KcCXmSLAdBMmwP90HcBctSvAuPouwOCGI8DZhC3AMDYwwG/SLsBSDy7Aus4wwJc+LcAcNy/AG9Y9wMg1QsAnlkLA6xZEwC1xPcCzRUjAUTdNwNmjT8A180nALK9LwA75WcA8gVTAwItgwOfBZMCfBGTAAWBxwOTlcsA=",
          "dtype": "f4"
         }
        }
       ],
       "layout": {
        "legend": {
         "orientation": "h",
         "x": 1,
         "xanchor": "right",
         "y": 1.15,
         "yanchor": "bottom"
        },
        "template": {
         "data": {
          "bar": [
           {
            "error_x": {
             "color": "#2a3f5f"
            },
            "error_y": {
             "color": "#2a3f5f"
            },
            "marker": {
             "line": {
              "color": "#E5ECF6",
              "width": 0.5
             },
             "pattern": {
              "fillmode": "overlay",
              "size": 10,
              "solidity": 0.2
             }
            },
            "type": "bar"
           }
          ],
          "barpolar": [
           {
            "marker": {
             "line": {
              "color": "#E5ECF6",
              "width": 0.5
             },
             "pattern": {
              "fillmode": "overlay",
              "size": 10,
              "solidity": 0.2
             }
            },
            "type": "barpolar"
           }
          ],
          "carpet": [
           {
            "aaxis": {
             "endlinecolor": "#2a3f5f",
             "gridcolor": "white",
             "linecolor": "white",
             "minorgridcolor": "white",
             "startlinecolor": "#2a3f5f"
            },
            "baxis": {
             "endlinecolor": "#2a3f5f",
             "gridcolor": "white",
             "linecolor": "white",
             "minorgridcolor": "white",
             "startlinecolor": "#2a3f5f"
            },
            "type": "carpet"
           }
          ],
          "choropleth": [
           {
            "colorbar": {
             "outlinewidth": 0,
             "ticks": ""
            },
            "type": "choropleth"
           }
          ],
          "contour": [
           {
            "colorbar": {
             "outlinewidth": 0,
             "ticks": ""
            },
            "colorscale": [
             [
              0,
              "#0d0887"
             ],
             [
              0.1111111111111111,
              "#46039f"
             ],
             [
              0.2222222222222222,
              "#7201a8"
             ],
             [
              0.3333333333333333,
              "#9c179e"
             ],
             [
              0.4444444444444444,
              "#bd3786"
             ],
             [
              0.5555555555555556,
              "#d8576b"
             ],
             [
              0.6666666666666666,
              "#ed7953"
             ],
             [
              0.7777777777777778,
              "#fb9f3a"
             ],
             [
              0.8888888888888888,
              "#fdca26"
             ],
             [
              1,
              "#f0f921"
             ]
            ],
            "type": "contour"
           }
          ],
          "contourcarpet": [
           {
            "colorbar": {
             "outlinewidth": 0,
             "ticks": ""
            },
            "type": "contourcarpet"
           }
          ],
          "heatmap": [
           {
            "colorbar": {
             "outlinewidth": 0,
             "ticks": ""
            },
            "colorscale": [
             [
              0,
              "#0d0887"
             ],
             [
              0.1111111111111111,
              "#46039f"
             ],
             [
              0.2222222222222222,
              "#7201a8"
             ],
             [
              0.3333333333333333,
              "#9c179e"
             ],
             [
              0.4444444444444444,
              "#bd3786"
             ],
             [
              0.5555555555555556,
              "#d8576b"
             ],
             [
              0.6666666666666666,
              "#ed7953"
             ],
             [
              0.7777777777777778,
              "#fb9f3a"
             ],
             [
              0.8888888888888888,
              "#fdca26"
             ],
             [
              1,
              "#f0f921"
             ]
            ],
            "type": "heatmap"
           }
          ],
          "histogram": [
           {
            "marker": {
             "pattern": {
              "fillmode": "overlay",
              "size": 10,
              "solidity": 0.2
             }
            },
            "type": "histogram"
           }
          ],
          "histogram2d": [
           {
            "colorbar": {
             "outlinewidth": 0,
             "ticks": ""
            },
            "colorscale": [
             [
              0,
              "#0d0887"
             ],
             [
              0.1111111111111111,
              "#46039f"
             ],
             [
              0.2222222222222222,
              "#7201a8"
             ],
             [
              0.3333333333333333,
              "#9c179e"
             ],
             [
              0.4444444444444444,
              "#bd3786"
             ],
             [
              0.5555555555555556,
              "#d8576b"
             ],
             [
              0.6666666666666666,
              "#ed7953"
             ],
             [
              0.7777777777777778,
              "#fb9f3a"
             ],
             [
              0.8888888888888888,
              "#fdca26"
             ],
             [
              1,
              "#f0f921"
             ]
            ],
            "type": "histogram2d"
           }
          ],
          "histogram2dcontour": [
           {
            "colorbar": {
             "outlinewidth": 0,
             "ticks": ""
            },
            "colorscale": [
             [
              0,
              "#0d0887"
             ],
             [
              0.1111111111111111,
              "#46039f"
             ],
             [
              0.2222222222222222,
              "#7201a8"
             ],
             [
              0.3333333333333333,
              "#9c179e"
             ],
             [
              0.4444444444444444,
              "#bd3786"
             ],
             [
              0.5555555555555556,
              "#d8576b"
             ],
             [
              0.6666666666666666,
              "#ed7953"
             ],
             [
              0.7777777777777778,
              "#fb9f3a"
             ],
             [
              0.8888888888888888,
              "#fdca26"
             ],
             [
              1,
              "#f0f921"
             ]
            ],
            "type": "histogram2dcontour"
           }
          ],
          "mesh3d": [
           {
            "colorbar": {
             "outlinewidth": 0,
             "ticks": ""
            },
            "type": "mesh3d"
           }
          ],
          "parcoords": [
           {
            "line": {
             "colorbar": {
              "outlinewidth": 0,
              "ticks": ""
             }
            },
            "type": "parcoords"
           }
          ],
          "pie": [
           {
            "automargin": true,
            "type": "pie"
           }
          ],
          "scatter": [
           {
            "fillpattern": {
             "fillmode": "overlay",
             "size": 10,
             "solidity": 0.2
            },
            "type": "scatter"
           }
          ],
          "scatter3d": [
           {
            "line": {
             "colorbar": {
              "outlinewidth": 0,
              "ticks": ""
             }
            },
            "marker": {
             "colorbar": {
              "outlinewidth": 0,
              "ticks": ""
             }
            },
            "type": "scatter3d"
           }
          ],
          "scattercarpet": [
           {
            "marker": {
             "colorbar": {
              "outlinewidth": 0,
              "ticks": ""
             }
            },
            "type": "scattercarpet"
           }
          ],
          "scattergeo": [
           {
            "marker": {
             "colorbar": {
              "outlinewidth": 0,
              "ticks": ""
             }
            },
            "type": "scattergeo"
           }
          ],
          "scattergl": [
           {
            "marker": {
             "colorbar": {
              "outlinewidth": 0,
              "ticks": ""
             }
            },
            "type": "scattergl"
           }
          ],
          "scattermap": [
           {
            "marker": {
             "colorbar": {
              "outlinewidth": 0,
              "ticks": ""
             }
            },
            "type": "scattermap"
           }
          ],
          "scattermapbox": [
           {
            "marker": {
             "colorbar": {
              "outlinewidth": 0,
              "ticks": ""
             }
            },
            "type": "scattermapbox"
           }
          ],
          "scatterpolar": [
           {
            "marker": {
             "colorbar": {
              "outlinewidth": 0,
              "ticks": ""
             }
            },
            "type": "scatterpolar"
           }
          ],
          "scatterpolargl": [
           {
            "marker": {
             "colorbar": {
              "outlinewidth": 0,
              "ticks": ""
             }
            },
            "type": "scatterpolargl"
           }
          ],
          "scatterternary": [
           {
            "marker": {
             "colorbar": {
              "outlinewidth": 0,
              "ticks": ""
             }
            },
            "type": "scatterternary"
           }
          ],
          "surface": [
           {
            "colorbar": {
             "outlinewidth": 0,
             "ticks": ""
            },
            "colorscale": [
             [
              0,
              "#0d0887"
             ],
             [
              0.1111111111111111,
              "#46039f"
             ],
             [
              0.2222222222222222,
              "#7201a8"
             ],
             [
              0.3333333333333333,
              "#9c179e"
             ],
             [
              0.4444444444444444,
              "#bd3786"
             ],
             [
              0.5555555555555556,
              "#d8576b"
             ],
             [
              0.6666666666666666,
              "#ed7953"
             ],
             [
              0.7777777777777778,
              "#fb9f3a"
             ],
             [
              0.8888888888888888,
              "#fdca26"
             ],
             [
              1,
              "#f0f921"
             ]
            ],
            "type": "surface"
           }
          ],
          "table": [
           {
            "cells": {
             "fill": {
              "color": "#EBF0F8"
             },
             "line": {
              "color": "white"
             }
            },
            "header": {
             "fill": {
              "color": "#C8D4E3"
             },
             "line": {
              "color": "white"
             }
            },
            "type": "table"
           }
          ]
         },
         "layout": {
          "annotationdefaults": {
           "arrowcolor": "#2a3f5f",
           "arrowhead": 0,
           "arrowwidth": 1
          },
          "autotypenumbers": "strict",
          "coloraxis": {
           "colorbar": {
            "outlinewidth": 0,
            "ticks": ""
           }
          },
          "colorscale": {
           "diverging": [
            [
             0,
             "#8e0152"
            ],
            [
             0.1,
             "#c51b7d"
            ],
            [
             0.2,
             "#de77ae"
            ],
            [
             0.3,
             "#f1b6da"
            ],
            [
             0.4,
             "#fde0ef"
            ],
            [
             0.5,
             "#f7f7f7"
            ],
            [
             0.6,
             "#e6f5d0"
            ],
            [
             0.7,
             "#b8e186"
            ],
            [
             0.8,
             "#7fbc41"
            ],
            [
             0.9,
             "#4d9221"
            ],
            [
             1,
             "#276419"
            ]
           ],
           "sequential": [
            [
             0,
             "#0d0887"
            ],
            [
             0.1111111111111111,
             "#46039f"
            ],
            [
             0.2222222222222222,
             "#7201a8"
            ],
            [
             0.3333333333333333,
             "#9c179e"
            ],
            [
             0.4444444444444444,
             "#bd3786"
            ],
            [
             0.5555555555555556,
             "#d8576b"
            ],
            [
             0.6666666666666666,
             "#ed7953"
            ],
            [
             0.7777777777777778,
             "#fb9f3a"
            ],
            [
             0.8888888888888888,
             "#fdca26"
            ],
            [
             1,
             "#f0f921"
            ]
           ],
           "sequentialminus": [
            [
             0,
             "#0d0887"
            ],
            [
             0.1111111111111111,
             "#46039f"
            ],
            [
             0.2222222222222222,
             "#7201a8"
            ],
            [
             0.3333333333333333,
             "#9c179e"
            ],
            [
             0.4444444444444444,
             "#bd3786"
            ],
            [
             0.5555555555555556,
             "#d8576b"
            ],
            [
             0.6666666666666666,
             "#ed7953"
            ],
            [
             0.7777777777777778,
             "#fb9f3a"
            ],
            [
             0.8888888888888888,
             "#fdca26"
            ],
            [
             1,
             "#f0f921"
            ]
           ]
          },
          "colorway": [
           "#636efa",
           "#EF553B",
           "#00cc96",
           "#ab63fa",
           "#FFA15A",
           "#19d3f3",
           "#FF6692",
           "#B6E880",
           "#FF97FF",
           "#FECB52"
          ],
          "font": {
           "color": "#2a3f5f"
          },
          "geo": {
           "bgcolor": "white",
           "lakecolor": "white",
           "landcolor": "#E5ECF6",
           "showlakes": true,
           "showland": true,
           "subunitcolor": "white"
          },
          "hoverlabel": {
           "align": "left"
          },
          "hovermode": "closest",
          "mapbox": {
           "style": "light"
          },
          "paper_bgcolor": "white",
          "plot_bgcolor": "#E5ECF6",
          "polar": {
           "angularaxis": {
            "gridcolor": "white",
            "linecolor": "white",
            "ticks": ""
           },
           "bgcolor": "#E5ECF6",
           "radialaxis": {
            "gridcolor": "white",
            "linecolor": "white",
            "ticks": ""
           }
          },
          "scene": {
           "xaxis": {
            "backgroundcolor": "#E5ECF6",
            "gridcolor": "white",
            "gridwidth": 2,
            "linecolor": "white",
            "showbackground": true,
            "ticks": "",
            "zerolinecolor": "white"
           },
           "yaxis": {
            "backgroundcolor": "#E5ECF6",
            "gridcolor": "white",
            "gridwidth": 2,
            "linecolor": "white",
            "showbackground": true,
            "ticks": "",
            "zerolinecolor": "white"
           },
           "zaxis": {
            "backgroundcolor": "#E5ECF6",
            "gridcolor": "white",
            "gridwidth": 2,
            "linecolor": "white",
            "showbackground": true,
            "ticks": "",
            "zerolinecolor": "white"
           }
          },
          "shapedefaults": {
           "line": {
            "color": "#2a3f5f"
           }
          },
          "ternary": {
           "aaxis": {
            "gridcolor": "white",
            "linecolor": "white",
            "ticks": ""
           },
           "baxis": {
            "gridcolor": "white",
            "linecolor": "white",
            "ticks": ""
           },
           "bgcolor": "#E5ECF6",
           "caxis": {
            "gridcolor": "white",
            "linecolor": "white",
            "ticks": ""
           }
          },
          "title": {
           "x": 0.05
          },
          "xaxis": {
           "automargin": true,
           "gridcolor": "white",
           "linecolor": "white",
           "ticks": "",
           "title": {
            "standoff": 15
           },
           "zerolinecolor": "white",
           "zerolinewidth": 2
          },
          "yaxis": {
           "automargin": true,
           "gridcolor": "white",
           "linecolor": "white",
           "ticks": "",
           "title": {
            "standoff": 15
           },
           "zerolinecolor": "white",
           "zerolinewidth": 2
          }
         }
        },
        "title": {
         "text": "True and Observed Data"
        },
        "xaxis": {
         "range": [
          0,
          10
         ],
         "title": {
          "text": "x"
         }
        },
        "yaxis": {
         "title": {
          "text": "y"
         }
        }
       }
      }
     },
     "metadata": {},
     "output_type": "display_data"
    }
   ],
   "source": [
    "# Plot the data\n",
    "\n",
    "fig = go.Figure()\n",
    "\n",
    "# Plot true function and sampled noisy data\n",
    "fig.add_trace(go.Scatter(x=true_x, y=true_y, mode=\"lines\", name=\"True Data\"))\n",
    "fig.add_trace(go.Scatter(x=obs_x, y=obs_y, mode=\"markers\", name=\"Observed Data\"))\n",
    "\n",
    "# Update layout\n",
    "fig.update_xaxes(range=[0, 10])\n",
    "fig.update_layout(title=\"True and Observed Data\", xaxis_title=\"x\", yaxis_title=\"y\")\n",
    "fig.update_layout(\n",
    "    legend=dict(orientation=\"h\", yanchor=\"bottom\", y=1.15, xanchor=\"right\", x=1)\n",
    ")\n",
    "\n",
    "if image_type == \"html\":\n",
    "    fig.show()\n",
    "elif image_type == \"static\":\n",
    "    display(Image(fig.to_image(format=\"png\", width=900, height=350)))"
   ]
  },
  {
   "cell_type": "markdown",
   "metadata": {},
   "source": [
    "## Method: Segmented Gaussian Process Models"
   ]
  },
  {
   "cell_type": "code",
   "execution_count": 4,
   "metadata": {},
   "outputs": [],
   "source": [
    "# Define the model, likelihood, and additional model components\n",
    "\n",
    "\n",
    "def partition_data(train_x, train_y, num_partitions):\n",
    "    \"\"\"Partition the data into num_partitions clusters using KMeans.\"\"\"\n",
    "    kmeans = KMeans(n_clusters=num_partitions, n_init=10)\n",
    "    labels = kmeans.fit_predict(train_x.numpy())\n",
    "    partitions = []\n",
    "    for i in range(num_partitions):\n",
    "        mask = labels == i\n",
    "        partitions.append((train_x[mask], train_y[mask]))\n",
    "    return partitions, kmeans, labels\n",
    "\n",
    "\n",
    "class ExactGPModel(gpytorch.models.ExactGP):\n",
    "    \"\"\"Standard Exact GP model with RBF kernel.\"\"\"\n",
    "\n",
    "    def __init__(self, train_x, train_y, likelihood):\n",
    "        super(ExactGPModel, self).__init__(train_x, train_y, likelihood)\n",
    "        self.mean_module = gpytorch.means.ConstantMean()\n",
    "        self.covar_module = gpytorch.kernels.ScaleKernel(gpytorch.kernels.RBFKernel())\n",
    "\n",
    "    def forward(self, x):\n",
    "        mean_x = self.mean_module(x)\n",
    "        covar_x = self.covar_module(x)\n",
    "        return gpytorch.distributions.MultivariateNormal(mean_x, covar_x)\n",
    "\n",
    "\n",
    "class SegmentedGP:\n",
    "    \"\"\"Segmented Gaussian Process model that divides the input space into clusters\n",
    "    and fits a separate GP for each cluster.\n",
    "    \"\"\"\n",
    "\n",
    "    def __init__(self, train_x, train_y, num_clusters=5, likelihood=None):\n",
    "        self.train_x = train_x.view(-1, 1)\n",
    "        self.train_y = train_y.view(-1)\n",
    "        self.num_clusters = num_clusters\n",
    "\n",
    "        # Perform clustering on the input data\n",
    "        self.partitions, self.kmeans, self.labels = partition_data(\n",
    "            self.train_x, self.train_y, num_clusters\n",
    "        )\n",
    "\n",
    "        # Create a separate GP model for each cluster\n",
    "        self.models = []\n",
    "        self.likelihoods = []\n",
    "\n",
    "        for x_part, y_part in self.partitions:\n",
    "            # Get data for this cluster\n",
    "            # Only create a model if there are points in this cluster\n",
    "            if len(x_part) > 0:\n",
    "                if likelihood is None:\n",
    "                    cluster_likelihood = gpytorch.likelihoods.GaussianLikelihood()\n",
    "                else:\n",
    "                    cluster_likelihood = likelihood\n",
    "\n",
    "                cluster_model = ExactGPModel(x_part, y_part, cluster_likelihood)\n",
    "\n",
    "                self.models.append(cluster_model)\n",
    "                self.likelihoods.append(cluster_likelihood)\n",
    "            else:\n",
    "                # If no points in cluster, add None placeholders\n",
    "                self.models.append(None)\n",
    "                self.likelihoods.append(None)\n",
    "\n",
    "    def train(self, num_iterations=100, lr=0.1):\n",
    "        # Train each model separately\n",
    "        for model, likelihood in zip(self.models, self.likelihoods):\n",
    "            if model is not None:\n",
    "                # Set models in training mode\n",
    "                model.train()\n",
    "                likelihood.train()\n",
    "                model.covar_module.base_kernel.lengthscale = 0.01\n",
    "\n",
    "                optimizer = torch.optim.Adam(model.parameters(), lr=lr)\n",
    "\n",
    "                # Define loss function (negative log likelihood)\n",
    "                mll = gpytorch.mlls.ExactMarginalLogLikelihood(likelihood, model)\n",
    "\n",
    "                # Training loop\n",
    "                for j in range(num_iterations):\n",
    "                    optimizer.zero_grad()\n",
    "                    output = model(model.train_inputs[0])\n",
    "                    loss = -mll(output, model.train_targets)\n",
    "                    loss.backward()\n",
    "                    optimizer.step()\n",
    "                    if j % 10 == 0:\n",
    "                        print(f\"Iter {j}: Loss = {loss.item():.3f}\")\n",
    "\n",
    "                # Set models to evaluation mode after training\n",
    "                model.eval()\n",
    "                likelihood.eval()\n",
    "\n",
    "    def predict(self, test_x, num_posterior_samples=10):\n",
    "        # Determine which cluster each test point belongs to\n",
    "        test_labels = self.kmeans.predict(test_x.numpy().reshape(-1, 1))\n",
    "\n",
    "        # Initialize output tensors\n",
    "        mean = torch.zeros(test_x.size(0))\n",
    "        variance = torch.zeros(test_x.size(0))\n",
    "\n",
    "        # Make predictions for each point using the appropriate cluster model\n",
    "        with torch.no_grad(), gpytorch.settings.fast_pred_var():\n",
    "            for i, (model, likelihood) in enumerate(zip(self.models, self.likelihoods)):\n",
    "                if model is not None:\n",
    "                    # Get points belonging to this cluster\n",
    "                    cluster_mask = test_labels == i\n",
    "                    if cluster_mask.sum() > 0:\n",
    "                        cluster_test_x = test_x[cluster_mask]\n",
    "\n",
    "                        # Make predictions\n",
    "                        predictions = likelihood(model(cluster_test_x))\n",
    "\n",
    "                        # Store results\n",
    "                        mean[cluster_mask] = predictions.mean\n",
    "                        variance[cluster_mask] = predictions.variance\n",
    "\n",
    "        # Posterior samples\n",
    "        samples = torch.zeros(test_x.size(0), num_posterior_samples)\n",
    "        with torch.no_grad():\n",
    "            for i, (model, _) in enumerate(zip(self.models, self.likelihoods)):\n",
    "                if model is not None:\n",
    "                    cluster_mask = test_labels == i\n",
    "                    if cluster_mask.sum() > 0:\n",
    "                        cluster_test_x = test_x[cluster_mask]\n",
    "\n",
    "                        # Get posterior distribution\n",
    "                        posterior = model(cluster_test_x)\n",
    "\n",
    "                        # Sample from posterior\n",
    "                        cluster_samples = posterior.sample(\n",
    "                            torch.Size([num_posterior_samples])\n",
    "                        ).t()\n",
    "\n",
    "                        # Store samples\n",
    "                        samples[cluster_mask] = cluster_samples\n",
    "\n",
    "        # Calculate confidence intervals\n",
    "        lower = mean - 1.96 * torch.sqrt(variance)\n",
    "        upper = mean + 1.96 * torch.sqrt(variance)\n",
    "\n",
    "        return test_labels, mean, lower, upper, samples\n"
   ]
  },
  {
   "cell_type": "code",
   "execution_count": 5,
   "metadata": {},
   "outputs": [],
   "source": [
    "# Initialize likelihood and model\n",
    "train_x, train_y = obs_x, obs_y\n",
    "num_clusters = 15\n",
    "model = SegmentedGP(train_x, train_y, num_clusters=num_clusters)"
   ]
  },
  {
   "cell_type": "code",
   "execution_count": 6,
   "metadata": {},
   "outputs": [
    {
     "name": "stdout",
     "output_type": "stream",
     "text": [
      "Iter 0: Loss = 3.121\n",
      "Iter 10: Loss = 1.649\n",
      "Iter 20: Loss = 1.260\n",
      "Iter 30: Loss = 0.884\n",
      "Iter 40: Loss = 0.404\n",
      "Iter 50: Loss = -0.106\n",
      "Iter 60: Loss = -0.477\n",
      "Iter 70: Loss = -0.556\n",
      "Iter 80: Loss = -0.569\n",
      "Iter 90: Loss = -0.590\n",
      "Iter 100: Loss = -0.591\n",
      "Iter 110: Loss = -0.595\n",
      "Iter 120: Loss = -0.597\n",
      "Iter 130: Loss = -0.600\n",
      "Iter 140: Loss = -0.603\n",
      "Iter 150: Loss = -0.606\n",
      "Iter 160: Loss = -0.609\n",
      "Iter 170: Loss = -0.613\n",
      "Iter 180: Loss = -0.616\n",
      "Iter 190: Loss = -0.620\n",
      "Iter 0: Loss = 1.155\n",
      "Iter 10: Loss = 0.826\n",
      "Iter 20: Loss = 0.520\n",
      "Iter 30: Loss = 0.091\n",
      "Iter 40: Loss = -0.313\n",
      "Iter 50: Loss = -0.530\n",
      "Iter 60: Loss = -0.539\n",
      "Iter 70: Loss = -0.541\n",
      "Iter 80: Loss = -0.552\n",
      "Iter 90: Loss = -0.551\n",
      "Iter 100: Loss = -0.552\n",
      "Iter 110: Loss = -0.552\n",
      "Iter 120: Loss = -0.552\n",
      "Iter 130: Loss = -0.552\n",
      "Iter 140: Loss = -0.552\n",
      "Iter 150: Loss = -0.552\n",
      "Iter 160: Loss = -0.552\n",
      "Iter 170: Loss = -0.552\n",
      "Iter 180: Loss = -0.552\n",
      "Iter 190: Loss = -0.552\n",
      "Iter 0: Loss = 2.957\n",
      "Iter 10: Loss = 1.677\n",
      "Iter 20: Loss = 1.359\n",
      "Iter 30: Loss = 1.131\n",
      "Iter 40: Loss = 0.909\n",
      "Iter 50: Loss = 0.657\n",
      "Iter 60: Loss = 0.446\n",
      "Iter 70: Loss = 0.344\n",
      "Iter 80: Loss = 0.332\n",
      "Iter 90: Loss = 0.334\n",
      "Iter 100: Loss = 0.333\n",
      "Iter 110: Loss = 0.332\n",
      "Iter 120: Loss = 0.331\n",
      "Iter 130: Loss = 0.331\n",
      "Iter 140: Loss = 0.331\n",
      "Iter 150: Loss = 0.331\n",
      "Iter 160: Loss = 0.331\n",
      "Iter 170: Loss = 0.331\n",
      "Iter 180: Loss = 0.331\n",
      "Iter 190: Loss = 0.331\n",
      "Iter 0: Loss = 1.216\n",
      "Iter 10: Loss = 0.804\n",
      "Iter 20: Loss = 0.399\n",
      "Iter 30: Loss = 0.220\n",
      "Iter 40: Loss = 0.051\n",
      "Iter 50: Loss = -0.033\n",
      "Iter 60: Loss = -0.029\n",
      "Iter 70: Loss = -0.035\n",
      "Iter 80: Loss = -0.038\n",
      "Iter 90: Loss = -0.038\n",
      "Iter 100: Loss = -0.038\n",
      "Iter 110: Loss = -0.038\n",
      "Iter 120: Loss = -0.038\n",
      "Iter 130: Loss = -0.038\n",
      "Iter 140: Loss = -0.038\n",
      "Iter 150: Loss = -0.038\n",
      "Iter 160: Loss = -0.038\n",
      "Iter 170: Loss = -0.038\n",
      "Iter 180: Loss = -0.038\n",
      "Iter 190: Loss = -0.038\n",
      "Iter 0: Loss = 3.675\n",
      "Iter 10: Loss = 1.788\n",
      "Iter 20: Loss = 1.407\n",
      "Iter 30: Loss = 1.152\n",
      "Iter 40: Loss = 0.817\n",
      "Iter 50: Loss = 0.376\n",
      "Iter 60: Loss = -0.098\n",
      "Iter 70: Loss = -0.447\n",
      "Iter 80: Loss = -0.522\n",
      "Iter 90: Loss = -0.512\n",
      "Iter 100: Loss = -0.528\n",
      "Iter 110: Loss = -0.529\n",
      "Iter 120: Loss = -0.531\n",
      "Iter 130: Loss = -0.532\n",
      "Iter 140: Loss = -0.533\n",
      "Iter 150: Loss = -0.534\n",
      "Iter 160: Loss = -0.535\n",
      "Iter 170: Loss = -0.536\n",
      "Iter 180: Loss = -0.537\n",
      "Iter 190: Loss = -0.538\n",
      "Iter 0: Loss = 1.229\n",
      "Iter 10: Loss = 0.929\n",
      "Iter 20: Loss = 0.562\n",
      "Iter 30: Loss = 0.178\n",
      "Iter 40: Loss = -0.095\n",
      "Iter 50: Loss = -0.126\n",
      "Iter 60: Loss = -0.129\n",
      "Iter 70: Loss = -0.137\n",
      "Iter 80: Loss = -0.137\n",
      "Iter 90: Loss = -0.138\n",
      "Iter 100: Loss = -0.138\n",
      "Iter 110: Loss = -0.138\n",
      "Iter 120: Loss = -0.138\n",
      "Iter 130: Loss = -0.138\n",
      "Iter 140: Loss = -0.138\n",
      "Iter 150: Loss = -0.138\n",
      "Iter 160: Loss = -0.138\n",
      "Iter 170: Loss = -0.138\n",
      "Iter 180: Loss = -0.138\n",
      "Iter 190: Loss = -0.138\n",
      "Iter 0: Loss = 3.051\n",
      "Iter 10: Loss = 1.733\n",
      "Iter 20: Loss = 1.405\n",
      "Iter 30: Loss = 1.209\n",
      "Iter 40: Loss = 1.001\n",
      "Iter 50: Loss = 0.762\n",
      "Iter 60: Loss = 0.534\n",
      "Iter 70: Loss = 0.377\n",
      "Iter 80: Loss = 0.296\n",
      "Iter 90: Loss = 0.265\n",
      "Iter 100: Loss = 0.259\n",
      "Iter 110: Loss = 0.259\n",
      "Iter 120: Loss = 0.259\n",
      "Iter 130: Loss = 0.259\n",
      "Iter 140: Loss = 0.259\n",
      "Iter 150: Loss = 0.259\n",
      "Iter 160: Loss = 0.259\n",
      "Iter 170: Loss = 0.259\n",
      "Iter 180: Loss = 0.259\n",
      "Iter 190: Loss = 0.259\n",
      "Iter 0: Loss = 2.820\n",
      "Iter 10: Loss = 1.580\n",
      "Iter 20: Loss = 1.214\n",
      "Iter 30: Loss = 0.884\n",
      "Iter 40: Loss = 0.585\n",
      "Iter 50: Loss = 0.305\n",
      "Iter 60: Loss = 0.148\n",
      "Iter 70: Loss = 0.133\n",
      "Iter 80: Loss = 0.125\n",
      "Iter 90: Loss = 0.115\n",
      "Iter 100: Loss = 0.115\n",
      "Iter 110: Loss = 0.115\n",
      "Iter 120: Loss = 0.115\n",
      "Iter 130: Loss = 0.115\n",
      "Iter 140: Loss = 0.114\n",
      "Iter 150: Loss = 0.114\n",
      "Iter 160: Loss = 0.114\n",
      "Iter 170: Loss = 0.114\n",
      "Iter 180: Loss = 0.114\n",
      "Iter 190: Loss = 0.114\n",
      "Iter 0: Loss = 1.355\n",
      "Iter 10: Loss = 0.845\n",
      "Iter 20: Loss = 0.463\n",
      "Iter 30: Loss = -0.007\n",
      "Iter 40: Loss = -0.344\n",
      "Iter 50: Loss = -0.400\n",
      "Iter 60: Loss = -0.408\n",
      "Iter 70: Loss = -0.418\n",
      "Iter 80: Loss = -0.417\n",
      "Iter 90: Loss = -0.419\n",
      "Iter 100: Loss = -0.419\n",
      "Iter 110: Loss = -0.419\n",
      "Iter 120: Loss = -0.419\n",
      "Iter 130: Loss = -0.419\n",
      "Iter 140: Loss = -0.419\n",
      "Iter 150: Loss = -0.419\n",
      "Iter 160: Loss = -0.419\n",
      "Iter 170: Loss = -0.419\n",
      "Iter 180: Loss = -0.419\n",
      "Iter 190: Loss = -0.419\n",
      "Iter 0: Loss = 4.800\n",
      "Iter 10: Loss = 2.139\n",
      "Iter 20: Loss = 1.582\n",
      "Iter 30: Loss = 1.369\n",
      "Iter 40: Loss = 1.173\n",
      "Iter 50: Loss = 0.917\n",
      "Iter 60: Loss = 0.574\n",
      "Iter 70: Loss = 0.159\n",
      "Iter 80: Loss = -0.260\n",
      "Iter 90: Loss = -0.569\n",
      "Iter 100: Loss = -0.668\n",
      "Iter 110: Loss = -0.662\n",
      "Iter 120: Loss = -0.680\n",
      "Iter 130: Loss = -0.688\n",
      "Iter 140: Loss = -0.692\n",
      "Iter 150: Loss = -0.697\n",
      "Iter 160: Loss = -0.700\n",
      "Iter 170: Loss = -0.703\n",
      "Iter 180: Loss = -0.705\n",
      "Iter 190: Loss = -0.706\n",
      "Iter 0: Loss = 2.697\n",
      "Iter 10: Loss = 1.546\n",
      "Iter 20: Loss = 1.196\n",
      "Iter 30: Loss = 0.790\n",
      "Iter 40: Loss = 0.277\n",
      "Iter 50: Loss = -0.257\n",
      "Iter 60: Loss = -0.678\n",
      "Iter 70: Loss = -0.821\n",
      "Iter 80: Loss = -0.816\n",
      "Iter 90: Loss = -0.866\n",
      "Iter 100: Loss = -0.912\n",
      "Iter 110: Loss = -0.969\n",
      "Iter 120: Loss = -1.023\n",
      "Iter 130: Loss = -1.062\n",
      "Iter 140: Loss = -1.081\n",
      "Iter 150: Loss = -1.083\n",
      "Iter 160: Loss = -1.082\n",
      "Iter 170: Loss = -1.083\n",
      "Iter 180: Loss = -1.083\n",
      "Iter 190: Loss = -1.083\n",
      "Iter 0: Loss = 1.161\n",
      "Iter 10: Loss = 0.747\n",
      "Iter 20: Loss = 0.363\n",
      "Iter 30: Loss = 0.041\n",
      "Iter 40: Loss = -0.257\n",
      "Iter 50: Loss = -0.387\n",
      "Iter 60: Loss = -0.390\n",
      "Iter 70: Loss = -0.397\n",
      "Iter 80: Loss = -0.409\n",
      "Iter 90: Loss = -0.409\n",
      "Iter 100: Loss = -0.409\n",
      "Iter 110: Loss = -0.410\n",
      "Iter 120: Loss = -0.410\n",
      "Iter 130: Loss = -0.410\n",
      "Iter 140: Loss = -0.410\n",
      "Iter 150: Loss = -0.410\n",
      "Iter 160: Loss = -0.410\n",
      "Iter 170: Loss = -0.410\n",
      "Iter 180: Loss = -0.410\n",
      "Iter 190: Loss = -0.410\n",
      "Iter 0: Loss = 1.349\n",
      "Iter 10: Loss = 0.751\n",
      "Iter 20: Loss = 0.382\n",
      "Iter 30: Loss = 0.132\n",
      "Iter 40: Loss = 0.090\n",
      "Iter 50: Loss = 0.036\n",
      "Iter 60: Loss = -0.007\n",
      "Iter 70: Loss = -0.027\n",
      "Iter 80: Loss = -0.028\n",
      "Iter 90: Loss = -0.028\n",
      "Iter 100: Loss = -0.030\n",
      "Iter 110: Loss = -0.030\n",
      "Iter 120: Loss = -0.030\n",
      "Iter 130: Loss = -0.030\n",
      "Iter 140: Loss = -0.030\n",
      "Iter 150: Loss = -0.030\n",
      "Iter 160: Loss = -0.030\n",
      "Iter 170: Loss = -0.030\n",
      "Iter 180: Loss = -0.030\n",
      "Iter 190: Loss = -0.030\n",
      "Iter 0: Loss = 3.622\n",
      "Iter 10: Loss = 1.815\n",
      "Iter 20: Loss = 1.414\n",
      "Iter 30: Loss = 1.135\n",
      "Iter 40: Loss = 0.772\n",
      "Iter 50: Loss = 0.309\n",
      "Iter 60: Loss = -0.171\n",
      "Iter 70: Loss = -0.523\n",
      "Iter 80: Loss = -0.620\n",
      "Iter 90: Loss = -0.616\n",
      "Iter 100: Loss = -0.635\n",
      "Iter 110: Loss = -0.642\n",
      "Iter 120: Loss = -0.648\n",
      "Iter 130: Loss = -0.654\n",
      "Iter 140: Loss = -0.659\n",
      "Iter 150: Loss = -0.665\n",
      "Iter 160: Loss = -0.671\n",
      "Iter 170: Loss = -0.677\n",
      "Iter 180: Loss = -0.682\n",
      "Iter 190: Loss = -0.686\n",
      "Iter 0: Loss = 1.970\n",
      "Iter 10: Loss = 1.268\n",
      "Iter 20: Loss = 0.766\n",
      "Iter 30: Loss = 0.248\n",
      "Iter 40: Loss = -0.138\n",
      "Iter 50: Loss = -0.316\n",
      "Iter 60: Loss = -0.309\n",
      "Iter 70: Loss = -0.333\n",
      "Iter 80: Loss = -0.338\n",
      "Iter 90: Loss = -0.340\n",
      "Iter 100: Loss = -0.340\n",
      "Iter 110: Loss = -0.340\n",
      "Iter 120: Loss = -0.341\n",
      "Iter 130: Loss = -0.341\n",
      "Iter 140: Loss = -0.341\n",
      "Iter 150: Loss = -0.341\n",
      "Iter 160: Loss = -0.341\n",
      "Iter 170: Loss = -0.341\n",
      "Iter 180: Loss = -0.341\n",
      "Iter 190: Loss = -0.341\n"
     ]
    }
   ],
   "source": [
    "# Train the model\n",
    "\n",
    "n_epochs = 200\n",
    "model.train(num_iterations=n_epochs)\n"
   ]
  },
  {
   "cell_type": "code",
   "execution_count": 7,
   "metadata": {},
   "outputs": [
    {
     "name": "stderr",
     "output_type": "stream",
     "text": [
      "/Users/williamdavis/Documents/Prototypes/hacking-NSGPs/hacking-non-stationary-GPs/.venv/lib/python3.12/site-packages/linear_operator/utils/cholesky.py:40: NumericalWarning:\n",
      "\n",
      "A not p.d., added jitter of 1.0e-06 to the diagonal\n",
      "\n",
      "/Users/williamdavis/Documents/Prototypes/hacking-NSGPs/hacking-non-stationary-GPs/.venv/lib/python3.12/site-packages/linear_operator/utils/cholesky.py:40: NumericalWarning:\n",
      "\n",
      "A not p.d., added jitter of 1.0e-05 to the diagonal\n",
      "\n"
     ]
    }
   ],
   "source": [
    "# Evaluate the model\n",
    "\n",
    "num_posterior_samples = 12\n",
    "\n",
    "labels, mean, upper, lower, samples = model.predict(\n",
    "    true_x,\n",
    "    num_posterior_samples=num_posterior_samples,\n",
    ")"
   ]
  },
  {
   "cell_type": "markdown",
   "metadata": {},
   "source": [
    "## Plotting"
   ]
  },
  {
   "cell_type": "code",
   "execution_count": 8,
   "metadata": {},
   "outputs": [
    {
     "data": {
      "application/vnd.plotly.v1+json": {
       "config": {
        "plotlyServerURL": "https://plot.ly"
       },
       "data": [
        {
         "legendgroup": "posterior_sample",
         "line": {
          "color": "rgba(0,100,255,0.1)"
         },
         "mode": "lines",
         "name": "Posterior Sample",
         "showlegend": true,
         "type": "scatter",
         "x": {
          "bdata": "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",
          "dtype": "f4"
         },
         "y": {
          "bdata": "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",
          "dtype": "f4"
         }
        },
        {
         "legendgroup": "posterior_sample",
         "line": {
          "color": "rgba(0,100,255,0.1)"
         },
         "mode": "lines",
         "name": "Posterior Sample",
         "showlegend": false,
         "type": "scatter",
         "x": {
          "bdata": "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",
          "dtype": "f4"
         },
         "y": {
          "bdata": "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",
          "dtype": "f4"
         }
        },
        {
         "legendgroup": "posterior_sample",
         "line": {
          "color": "rgba(0,100,255,0.1)"
         },
         "mode": "lines",
         "name": "Posterior Sample",
         "showlegend": false,
         "type": "scatter",
         "x": {
          "bdata": "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",
          "dtype": "f4"
         },
         "y": {
          "bdata": "m6JAPpWvMj5unCE+KLEOPtAW/T2tbNw9pgLHPTqtuj1KCLw91i3LPdC29j2D4hM+lvQ4PthgaD6iXI4+Dt+sPnMlzj78mPE+vswJP0/MGT8S/Cc/tqk0P5QRPj8oWkQ/hB5HPx9gRj/EeUE/pFI4P1lnLD9bZBw/foIJP2fK6D6LPLw+9eCKPiZIMj7j1pk9gMjEvJrq+71ueV++uqCevre1yb5d//K+j9sMv6T6Hr8WpS6/yOk8v3MxSb8DBFS/9xBcvx0iYr/R3mW/MXhnv9dtZr/q+2K/KUVdv01zVb8icEu/nbc+vw1xMb9jyCK/+n4Tv2sNA78C0Oa+IV7Jvr9brb5LlZW+TBCBvpA3Bj7Ujm0+yhOsPuZE4j4iaAs/JvYjP+WIOj9iFk8/dB1gP+3UbT8Vcnk/vU2APwfMgj8LEIQ/tjWEP44KhD+NEYM/R6iBPy4ZgD9JpXw/v514P9Twcz/5n20/B7BlP4rYWj+UZE0/6s48PwWQKD+SVhA/IkzqPuQesD6Qs2A+LYbKPWqQvLz5tQu+uQ50vqhdpb5T9MS+mBnbvhhb5L41DeG+OUfVvksjv74kc6O+ocuCvt4JQr5B9Py9Pi2CvQAKSLx4LvA8XMNpPUwnnz1m4ak9DDWkPQBnb7+h6Vq/CExKv85qM78NBRy/Dm4Hv81g2748cKa+9C1uvvzyAr6oKtS8N/KKPbj/Nj6UCow+pIW9Poyj6j5ugQ0/tKogP7R3NT9JYkY/7VlXP4xYYT+T5W8/OdN2P2YBfz+ctYA/EuyAP2O6gT9zEIA/wll6P79scz/IQGk/YL9eP7iwUj9ZjEU/GNo1PwNXJD8g1hM/cIcCPwZJ3j5qlbg+FYuSPtgNUT4ai/s9A4BAPaZJLb1mCwG+8hpRvg/0j75QXbq+8bDhvqOoBr91ARu/NmwvvzcmRL+qb1m/0Edsv2f2gL/SuYq/JyuUv+Wknb++kKe/W72vv4K3ub+Q4sK/UkDJv6lI0r9KrZe/EhuOv5oRg79rj26/zO9VvzzDOr/pASC/OOcDv9YOz74ZDZi+MJdEvjEUwb3sOwO8IVl5PWUK3T3ClgY+AI3/PTpNuD08ogM9OOdHvRVvE755eH++6j21vsJi6L4DxQq//EMdv4G9K7/6ZTW/1Ac7v65QPb+41Dy/Ucs6vwLjOL8XbTe/fKw4vxuKPL/Wu0O/ReZNv3cSW7++bWm/wZp5v6X0hL9M7Iy/tXyUvzBknL+wzKK/WL+ov2jjrb+pA7K/OCW0v8Fbtb/TIrW/G0+0v4RXs7/OkrK/t8Oyv0Kss78bfbW/gmC3v3Vzub9Ya7q//l+6v34luL+6sLS/0pWvv3Saqb/U2aK/saabv1s2lL9XvIy/ESmFv/c2er+Jj6G/GKCdv0vdmb8H5ZW/VdSRv0+mjb9VOYm/qNeEv5Dkf79vJHe/t/9svzMhY7+DNFm/WfFOvz3qRL/ecjq/B48vv46EJL+Nehq/rygPv7HeA79z7vK+2lzevrhUyL63BbK+b3edvuEnh75vWma+nR89voANFr7ni929gSKRvTwsBb1QkKo7RukaPenakj2P9NM9KVAKPhqrJz46b0U+bVRjPjQrfD40vIs+c62XPsCXoj6xX60+Z6y2PubzwD6IR8k+T4DQPlDF2D5hhN4+u7rkPiDi6j4YwO4+wdXzPqHu9z7KDfs+kAD9Pj8oAD+XwQA/aIoBPys1Aj/1MQI/SLMCP9wQAj+QbQE/LlIBP4jwAD+kJPo9fAzVPUikrT3W5YY9pNw0Peyxrjxgsku7SEvwvCRUZL1TMqu9s2XpvQEtE75CljO+SpVUvlSOd77FFY2+dL2dvqoCsb61lMO+vrXVvlHa6L4i0/u+MFIHv20/Eb86SRq/wuYjv024Lb+0zTe/oNVAvx+TSr+B4VO/M7Rdvx+rZr84P3C/AJR5vzUCgb8FrIW//7iJv5EGjr9ePpK/T1CWv5A5mr8OEJ6/MLmhv+pMpb8v6qi//jysvxGur7/Wx7K/bs21v0PBuL8Zibu/Ig2+v7xLwL9l2sK/ezbFvxYvx7/iFsm/EB/Lv9DGzL95Z86/YRSiv8hRor/NjKK/Kbiiv0wso7+TtqO/vXmkvxrhpL+vXqW/rCKmv/u2pr+zgKe/56eov+tKqb92Uaq/n3Srv0VlrL+g3q2/3Pquv5V2sL8ctLG/zRmzvxuttL+CWra//Cy4v7jfub+tz7u/B8i9v8H4v7+SFsK/0VfEv3eyxr9FUMm/ccLLv+xQzr/+9tC/9LPTv2qS1r9letm/YCLcv5gl37+kSuK/6Uvlv5q06L8N9eu/GGLvvxCf8r+gEPa/dYD5v3UX/b+9XgDAUv4BwHTkA8BWogXAKmoHwNVkCcAMCwvA7vsMwO/FDsCrhBDAkUsSwF4VFMBWEhPAtAEUwPjkFMBd7xXA66IWwCbIF8DJvxjAoLsZwNetGsAQ8BvA5OocwDXsHcDE/B7AlUogwDRxIcAanSLAB9AjwDQKJcD5QCbAEX0nwNLDKMB18CnArjsrwGOVLMDX4C3AsBcvwE6FMMDarzHApA0zwBouNMA0iTXAqc42wMIMOMCkfTnAAJg6wN7OO8DrGD3Axks+wGaDP8Cxr0DAu9JBwBEMQ8AgEUTAdDFFwOpURsBsXEfA1WpIwJZbScBrRUrAC0VLwFEiTMDV8UzAJ89NwNKtTsARkE/AwzFQwGbfUMCSmVHAcSxSwOztUsD8XFPAVctTwGE+VMBs2VTApvhJwH6KScAnMUnAeNNIwHmBSMCYO0jAHBRIwMnQR8Bot0fAaJFHwOlWR8CCCUfAbPJGwKLhRsDLm0bAR3lGwMg8RsBbD0bAUK9FwHphRcAj/kTAmZJEwOM0RMBtrUPAmBNDwBVtQsDL9EHAJlJBwAiGQMAzuD/Agcw+wKgZPsB+AT3AHCA8wIgTO8DfATrA7OE4wNfRN8DspzbAnlw1wENTNMAmAzPAxNMxwH2XMMD1Ry/AwQouwN+1LMBKeivAahwqwPDZKMANmSfAulcmwEEMJcCf6SPAYLAiwLdsIcAPPCDAGhQfwL0nHsCfvBzAdLgbwPGUGsD4fhnAF5sYwMh+F8A2mBbAzokVwKWVFMCnkhPA1boSwFtZQMBwmzbAuDoswOi9IMAK7hXA1TwMwMrIBMDsqf6/FPD3v17u9b/n4fa/8PX7v8uxAMDGvgPAGGsGwPunCMB4+wnAE3oKwBgFCsCsOQnAIWsHwIaJBcCM/APAlF0DwGBqA8DdcwXAW/QJwPLJEMDZUBrAGJgmwJSlNMB7tkPA7mpSwC2WX8AfEGnAdsZuwJ1ab8B1xGrAdltiwGBRVcAgWkbAlg41wDhjJMAwyRTA4UIHwJJW9r+F6eO/SEPVv4dLzb8yvMm/8P7Jv6KV0L+Sctu/N2Hqv5Lk/L+cEwrA3AsXwBXEJMBhxTLAsWhAwLDyTMDYAFjA3nNgwGCMZsB4RmrACL5rwEcNasCwM2bAJ/5gwPpOWsDaBlTAtFhOwMJgSsDG8A/AGGsEwLLi8L8D0dm/IxrGv6Nst79cP6+/zYqtv7Qwsr/GAby/jB7Kv5u42b9zbuu/Sm79vx0KCMCm8BHAT1AcwHtqJ8DxFTPAJXM+wJejSMBIx1DANldVwC90VcCg0VDAKkNHwG6uOcBCdSnAYRQYwIshB8A0mfC/9gzZv97/yL9QDMC/yBi9vz4qv7/c2cO/FHjKv9Zc0b/NVNi/yfTfv15o6L/zx/K/Zhf/vx1+B8AtphDAMwMbwObzJcCL6DDAkto6wMXXQ8AYzErAnDpQwFrOU8CKB1bAAV1XwITzV8DNJ1jAvh5YwBPFV8DQ2VbAUXRVwEWOU8BXA1HA7PkPwNiEBcCMz/a/sKvkv+II1r9JUsu/xI3Fv4baxL8648i/QSbSv/ij379DWPC/3SUCwNQWDcC1rBjA04QkwKjRL8DBajrAJoZDwBYgS8Dgl1DAsQFUwD08VcCGNFTA1VNRwOu7TMDim0bAeC0/wLVoNsA89CzAILwiwCEVGMC1fQ3A4igDwL7I879TV+S/GZfYvw/S0b/bL9C/AiPUv0sQ3b9Evum/pFX5v75ZBcDpaw7Ak0MXwJGiH8B1RCfAp2EuwLSnNMA9nzrAsTNAwF4ZRcCcFErAHtxNwI0dUcC0JVPAC7xTwGKTUsDNk0/A2HJKwCSXQ8DURzvA454xwIhPJ8DKRx3AM7sTwBiqC8B8qQXAyHcCwDS2AcA7NA3AY78NwBL2DcDw+A3AMwIOwC23DcDkZQ3AsicNwE+sDMDFKgzAaZkLwLkiC8BkpwrARkAKwETvCcANiQnAWXcJwMNZCcDANwnA7EMJwMx3CcBvoAnAMP0JwNxACsBWyArAsxsLwHGmC8DLLwzAysMMwD1YDcA17w3AT6EOwJIbD8CqwQ/AOz8QwLuxEMDoMhHA+00RwE+6EcDm8BHAOPoRwP3tEcDn0hHA3acRwHaREcDULhHAdeEQwBVZEMD0+Q/Aa4wPwDYaD8BMzw7AVHkOwD9JDsCMJw7AnO0NwOwBDsDSCA7AhSkOwDgaDsAAcw7Ak6oOwKogD8BNfg/AUdkPwMo8EMDbjRDAniMRwGmAEcBX3BHACHUSwHusEsA7gRzAlzAdwOS6HcAyMx7A5swewOs9H8CZth/AozEgwKG0IMDYZCHAsbMhwEohIsDe2yLASUYjwM+/I8ADJSTAcqUkwGAeJcBcoCXAk+wlwBpcJsBL9SbAYEsnwNLSJ8D7LCjA13UowKPjKMB8aCnA6rYpwB4RKsBVhSrADc0qwPlIK8BckSvAYOorwJ1ILMBviCzAAvIswHU+LcBflS3A5OstwL8uLsB+hS7A9uYuwAsUL8CQbC/AfcsvwHvwL8AcNzDAPq8wwH/FMMBRBzHAJUwxwOfEMcBMzjHAmCUywDeEMsClwzLAbwIzwFl5M8A/ojPAROMzwFM9NMBCXjTAY6Q0wP9dQsCdXELAIlhCwIKHQsC+g0LAUKlCwBG+QsBm/ELADAlDwJpWQ8CMi0PARrpDwBMaRMDlYETATK5EwIjzRMBJM0XAEqNFwIoMRsAUaEbAEwlHwFBGR8DVyUfAijRIwOrBSMD3WUnAL71JwF6FSsBXBUvAOapLwFwMTMAS3UzAN4lNwPEyTsAB2U7AHZdPwHQ9UMAhEFHAR8xRwOuFUsDmQVPAdR5UwC/yVMAYtFXAeqZWwB99V8CAP1jA/iBZwL8gWsA+/FrArM1bwPzbXMCfr13AbqJewGrNX8B8s2DAV7xhwEK6YsCxsWPAP8pkwGG9ZcC50GbAZ/BnwNYCacDjAWrA5BxrwKM8bMBGTm3AW2puwA==",
          "dtype": "f4"
         }
        },
        {
         "legendgroup": "posterior_sample",
         "line": {
          "color": "rgba(0,100,255,0.1)"
         },
         "mode": "lines",
         "name": "Posterior Sample",
         "showlegend": false,
         "type": "scatter",
         "x": {
          "bdata": "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",
          "dtype": "f4"
         },
         "y": {
          "bdata": "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",
          "dtype": "f4"
         }
        },
        {
         "legendgroup": "posterior_sample",
         "line": {
          "color": "rgba(0,100,255,0.1)"
         },
         "mode": "lines",
         "name": "Posterior Sample",
         "showlegend": false,
         "type": "scatter",
         "x": {
          "bdata": "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",
          "dtype": "f4"
         },
         "y": {
          "bdata": "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",
          "dtype": "f4"
         }
        },
        {
         "legendgroup": "posterior_sample",
         "line": {
          "color": "rgba(0,100,255,0.1)"
         },
         "mode": "lines",
         "name": "Posterior Sample",
         "showlegend": false,
         "type": "scatter",
         "x": {
          "bdata": "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",
          "dtype": "f4"
         },
         "y": {
          "bdata": "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",
          "dtype": "f4"
         }
        },
        {
         "legendgroup": "posterior_sample",
         "line": {
          "color": "rgba(0,100,255,0.1)"
         },
         "mode": "lines",
         "name": "Posterior Sample",
         "showlegend": false,
         "type": "scatter",
         "x": {
          "bdata": "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",
          "dtype": "f4"
         },
         "y": {
          "bdata": "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",
          "dtype": "f4"
         }
        },
        {
         "legendgroup": "posterior_sample",
         "line": {
          "color": "rgba(0,100,255,0.1)"
         },
         "mode": "lines",
         "name": "Posterior Sample",
         "showlegend": false,
         "type": "scatter",
         "x": {
          "bdata": "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",
          "dtype": "f4"
         },
         "y": {
          "bdata": "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",
          "dtype": "f4"
         }
        },
        {
         "legendgroup": "posterior_sample",
         "line": {
          "color": "rgba(0,100,255,0.1)"
         },
         "mode": "lines",
         "name": "Posterior Sample",
         "showlegend": false,
         "type": "scatter",
         "x": {
          "bdata": "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",
          "dtype": "f4"
         },
         "y": {
          "bdata": "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",
          "dtype": "f4"
         }
        },
        {
         "legendgroup": "posterior_sample",
         "line": {
          "color": "rgba(0,100,255,0.1)"
         },
         "mode": "lines",
         "name": "Posterior Sample",
         "showlegend": false,
         "type": "scatter",
         "x": {
          "bdata": "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",
          "dtype": "f4"
         },
         "y": {
          "bdata": "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",
          "dtype": "f4"
         }
        },
        {
         "legendgroup": "posterior_sample",
         "line": {
          "color": "rgba(0,100,255,0.1)"
         },
         "mode": "lines",
         "name": "Posterior Sample",
         "showlegend": false,
         "type": "scatter",
         "x": {
          "bdata": "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",
          "dtype": "f4"
         },
         "y": {
          "bdata": "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",
          "dtype": "f4"
         }
        },
        {
         "legendgroup": "posterior_sample",
         "line": {
          "color": "rgba(0,100,255,0.1)"
         },
         "mode": "lines",
         "name": "Posterior Sample",
         "showlegend": false,
         "type": "scatter",
         "x": {
          "bdata": "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",
          "dtype": "f4"
         },
         "y": {
          "bdata": "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",
          "dtype": "f4"
         }
        },
        {
         "line": {
          "color": "blue"
         },
         "mode": "lines",
         "name": "Posterior Mean",
         "type": "scatter",
         "x": {
          "bdata": "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",
          "dtype": "f4"
         },
         "y": {
          "bdata": "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",
          "dtype": "f4"
         }
        },
        {
         "fill": "toself",
         "fillcolor": "rgba(0,100,255,0.2)",
         "line": {
          "color": "rgba(255,255,255,0)"
         },
         "name": "95% Confidence",
         "type": "scatter",
         "x": {
          "bdata": "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",
          "dtype": "f4"
         },
         "y": {
          "bdata": "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",
          "dtype": "f4"
         }
        },
        {
         "line": {
          "color": "red"
         },
         "mode": "lines",
         "name": "True Function",
         "type": "scatter",
         "x": {
          "bdata": "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",
          "dtype": "f4"
         },
         "y": {
          "bdata": "AAAAAKCXwT22uUA+43aPPgBIvT4uZ+k+oLcJP+1/HT8l3y8/KatAP3a9Tz9/81w/+i5oPyZWcT8JVHg/mhh9P+uYfz9Az38/HLt9P0RheT+xy3I/ewlqP7cuXz9IVFI/pJdDP5YaMz/uAiE/IHoNP+9Z8T5TlsU+qw2YPuJQUj6kSOU98IaPPG/Xnb1eEy++0tSGvtfqtL4PYuG+TOoFv4/wGb/glSy/iK89v1AWTb/pplq/NkJmv6bNb79LM3e/NGJ8v39Of7968X+/rUl+v+Zaer8nLnS/mdFrv2dYYb+T2lS/yHRGv/xHNr9EeSS/fzERv7U5+b4M1c2+fpigvqLXY77PcwS+TIEPvaQVdD0/Xx0+LFB8PnF/rD5ES9k+dhICPxVVFj8NPyk/AaU6PwlfSj8iSVg/XkNkP0oybj8g/3U/+Zd7PwTwfj+X/38/Q8R+P9xAez9sfXU/MIdtP15wYz8nUFc/UEJJPwZnOT+t4ic/e90UP/KCAD+tA9Y+shapPlpMdT7zOBY+mTNXPftpLL3Sngu+TeNqvoQGpL5WI9G+zWD8vsetEr/t2iW/yos3v9uXR79f2lW/kjJivziEbL+at3S/9Ll6v399fr+W+X+/1Cp/vxATfL9juXa/Fipvv3p2Zb/GtFm//f9Lv3l3PL/rPiu/uH0Yv/deBL98Id6+q4exvvVWg74K8ie+vmqPvYpdyTyZpvM9XGNZPqSAmz756sg+sIj0Pv/6Dj++aSI/MWQ0PwfBRD/SWlM/BxBgP43Daj/hXHM/QMh5P/v2fT93338/VX1/P3jRfD//4Xc/NrpwP41qZz9RCFw/q61OPzF5Pz+zjS4/EhIcP4gwCD+6LeY+kuq5Pkz9iz4tnjk+6y+zPS1t57vn/M+909JHvovukr7SosC+k53svu08C7/Z6x6/VC4xv7LaQb+gylC/0Ntdv2/waL8C73G/5MJ4v39cfb88sX+/xLt/v/97fb8U93i/azdyv2lMab+KSl6/HEtRv8hrQr+4zjG/Apofv3/3C7/9J+6++z7CvuCYlL65O0u+gufWvQBfK7wAXyu8CAFQvZBHvL1YCwm+tqA0vkvNYL5zvYa+MUmdvi7+s74E0cq+37XhvuCg+L5Dwwe/eC0TvyaJHr+Z0Cm/9/00v3ULQL+I80q/hrBVv+A8YL9Jk2q/Zq50v/qIfr8JD4S/XLSIvwwyjb/YhZG/g62Vv+Wmmb//b52/2wahv5xppL+Qlqe/DIyqv5hIrb/Byq+/QRGyv+satL+55rW/vHO3vybBuL9Szrm/sJq6v9slu7+Kb7u/mHe7vwA+u7/gwrq/dwa6vyYJub9uy7e/9E22v3mRtL/ilrK/Nl+wv5Lrrb87Pau/llWovxc2pb9d4KG/Ilaevy+Zmr9yq5a/9I6Sv8dFjr8j0om/VzaFv7R0gL9dH3e/phNtv0zLYr+kS1i/HppNvxm8Qr84tze/MJEsv5pPIb8++BW/GpEKv7I//r7SVOe+d23QviCVub6k16K+zECMvuO3a75eaT++Aq0TvoQx0b3YC3m9cAymvBC1njwgwm09SO/DPZhYBz4IgCs+NFtOPqDYbz5e84c+ujqXPna6pT4Qa7M+qEXAPpJDzD6cXtc+LpHhPv7V6j5CKPM+yoP6PmJyAD/zIwM/PFUFPxoFBz+vMgg/Yt0IP9oECT8EqQg/DsoHP2poBj/OhAQ/MiACP553/j5Qsvc+3PPvPkhA5z4UnN0+GgzTPtKVxz4uP7s+YA6uPj4KoD4MOpE+OKWBPrSnYj7InEA+xDodPgAo8T0Ad6U9ABEvPQCdcDug1BS9AByevchk8708DCW+vgVRviWIfb4tPpW+5uWrvmCvwr4qj9m+aHnwvh2xA78PHw+/noAav+TPJb8yBzG/uSA8v7gWR7+841G//oFcvy3sZr8MHXG/Jg97v85egr+fEYe/rJ2Lv6oAkL9COJS/V0KYv+AcnL/OxZ+/TDujv5x7pr8Aham/9FWsvw3trr/oSLG/Vmizv0dKtb+47ba/2FG4v/N1ub9tWbq/1Pu6v9dcu79AfLu/A1q7vy72ur/2ULq/sWq5v9BDuL/y3La/yza1vy5Ss78fMLG/sNGuvxI4rL+oZKm/3Vimv95Ypr8o7qe/So+pvw88q79G9Ky/vbeuv0CGsL+SX7K/kkO0v+4xtr+AKri/CC26v0w5vL8JT76/FG7AvxaWwr/oxsS/MgDHv8VByb9Yi8u/qNzNv2s10L9wldK/VfzUv/Bp17/d3dm/6lfcv8/X3r8rXeG/yufjv1x35r+UC+m/IKTrv8lA7r8l4fC/BYXzv/wr9r/V1fi/OYL7v9ow/r+wcADAy8kBwIUjA8DIfQTAW9gFwCMzB8D0jQjApugJwA1DC8AOnQzAcfYNwBtPD8DfphDAlv0RwBpTE8BCpxTA5PkVwOZKF8APmhjAR+cZwGIyG8A7exzAqMEdwI8FH8C8RiDAGYUhwHLAIsCw+CPAqS0lwDpfJsBCjSfAnLcowCbeKcDAACvARx8swJg5LcCaTy7AJGEvwB1uMMBldjHA3HkywGN4M8DkcTTAOGY1wE1VNsD+PjfAOCM4wN0BOcDV2jnABK46wFh7O8CyQjzAAAQ9wCu/PcAedD7AwiI/wAXLP8DRbEDAGQhBwMScQcDIKkLAELJCwI0yQ8AyrEPA7x5EwLiKRMCC70TAPk1FwOSjRcBp80XAxTtGwO58RsDetkbAjelGwPcUR8AVOUfA5FVHwGFrR8CJeUfAWoBHwNR/R8D3d0fAw2hHwDpSR8BgNEfANw9HwMPiRsALr0bAEnRGwOIxRsCA6EXA9ZdFwExARcCM4UTAxHtEwPsORMBAm0PAoSBDwCyfQsDsFkLA94dBwFbyQMAiVkDAZ7M/wDoKP8CuWj7A2aQ9wMroPMCgJjzAaV47wD6QOsA5vDnAcOI4wP4COMD9HTfAgTM2wK9DNcCaTjTAYlQzwCJVMsD8UDHABEgwwGU6L8AxKC7AlBEtwKX2K8CH1yrAXLQpwEeNKMBhYifA2jMmwMYBJcBXzCPAppMiwNZXIcAWGSDAgdcewD6THcBzTBzASQMbwNq3GcBdahjA5xoXwK/JFcDPdhTAcyITwMHMEcDkdRDA+R0PwDfFDcC4awzAqRELwDG3CcB4XAjApgEHwOamBcBWTATAK/ICwIKYAcCGPwDAwKnuvyCV3b9CodC/3lLIv7n+xL/vxsa/T5nNv/Uv2b/FFOm/maT8v/SLCcBZxBXAvn4iwL04L8BvcDvA3KhGwPhuUMAdX1jA9idewHqOYcDQb2LA/cJgwCuZXMDFHFbAYJBNwC1LQ8BotjfAREgrwB2AHsBp4BHAfuoFwLAw9r8TsuO/sxXVv0Dxyr9CrMW/tnzFv35kyr9cMdS/bn/iv9+79L85FgXA9PoQwMOSHcBhXCrAhtU2wCh+QsBR30zA245VwBE0XMC8imDAqmZiwMO0YcA0fF7A7N1YwDITUcACbEfA70o8wIshMMCpbCPAwa0WwKdnCsA6L/6/pGLqv7oz2r+cSM6/thrHv7rzxL966ce/s93Pv1h/3L/ATO2/J80AwDJMDMAzrhjADXQlwJ4bMsABIz7AdA9JwEVxUsCh6FnA5yhfwJX8YcCoRmLAPQRgwHFMW8BZT1TAslRLwDG4QMBX5jTAwlcowFiNG8BoCQ/AbEwDwFac8b/l89+/3lPSvxpIyb/GLMW/ByzGv4w7zL+bHde/gGLmv6hu+b9IvwfAetgTwDKHIMD/SS3A5Z05wBQFRcDxCk/AIklXwAxrXcAxMmHAzHdiwPQuYcDMZF3A7z9XwG//TsBe90TAto45wPM5LcAsdyDAoMgTwH2wB8BfVPm/5kzmv+QM17/jMMy/iCfGv8Yuxb9mUMm/KGLSv5wH4L+wtPG/ploDwO0YD8BInRvAuWcowLH1NMBRxkDACGFLwGZZVMDPU1vAsghgwOhHYsCU+mHAziNfwH3gWcCmZlLAdgJJwFEUPsDTCzLACWQlwByeGMApPQzAhb8AwGQ17b+HbNy/wNDPv4Tix78688S/siDHv6ZUzr+4Rdq/UHnqv2BK/r++dgrAw70WwLF8I8ByMTDAmlk8wBd5R8AtHlHAXOZYwMOBXsBCt2HA6WViwNOGYMAkLVzAMYVVwE3TTMAPcELAFcY2wHdMKsDGgh3AiOsQwPwHBcDkovS/oGrivzAi1L8aW8q/unnFv72vxb/6+sq/jCXVvxrH47+SSva/9fgFwAXwEcBPEQbASCsGwN9GBsAUZAbA54IGwFajBsBgxQbABukGwEQOB8AcNQfAjF0HwJKHB8AuswfAXuAHwCIPCMB4PwjAX3EIwNakCMDc2QjAbhAJwItICcAyggnAZL0JwBz6CcBZOArAGngKwF+5CsAj/ArAZkALwCiGC8BkzQvAGhYMwEdgDMDsqwzAA/kMwIxHDcCFlw3A7ugNwMA7DsD8jw7AoOUOwKw8D8AYlQ/A5O4PwBBKEMCaphDAewQRwLRjEcBBxBHAJCYSwFSJEsDR7RLAmlMTwK26E8ADIxTAnIwUwHX3FMCOYxXA4NAVwGg/FsAnrxbAGiAXwDqSF8CGBRjA+3kYwJrvGMBYZhnAON4ZwDVXGsBP0RrAfEwbwL7IG8AURhzAdMQcwN5DHcBPxB3Ax0UewDzIHsCuSx/AGtAfwH9VIMDU2yDAGGMhwEjrIcBkdCLAYf4iwECJI8D8FCTAlqEkwAMvJcBDvSXAU0wmwDHcJsDUbCfAPP4nwGOQKMBMIynA6bYpwDxLKsBA4CrA9XUrwFEMLMBSoyzA9TotwDrTLcAWbC7AiAUvwIyfL8AjOjDAQNUwwORwMcAKDTLAsqkywNFGM8Bn5DPAcoI0wOggNcDJvzXAD182wLz+NsDCnjfAIz84wNnfOMDlgDnAOyI6wNrDOsC+ZTvA5wc8wEmqPMDkTD3AtO89wLiSPsDkNT/AONk/wLB8QMBMIEHA/8NBwMpnQsCnC0PAmK9DwI9TRMCM90TAjJtFwI4/RsCG40bAc4dHwFIrSMAiz0jA13JJwHEWSsDruUrARl1LwHUATMB4o0zAS0ZNwO7oTcBUi07Afi1PwGvPT8APcVDAahJRwHezUcA3VFLAnvRSwKuUU8BbNFTArNNUwJRyVcASEVbAIa9WwMNMV8Dq6VfAmIZYwMciWcB4vlnAnllawDv0WsBKjlvAyidcwLDAXMD8WF3Aq/BdwLyHXsAjHl/A4bNfwPFIYMBU3WDA/3BhwPADYsAmlmLAnidjwE+4Y8A5SGTAVtdkwKllZcAl82XAy39mwJcLZ8CJlmfAliBowA==",
          "dtype": "f4"
         }
        },
        {
         "legendgroup": "training_data",
         "mode": "markers",
         "name": "Training Data",
         "showlegend": false,
         "type": "scatter",
         "x": {
          "bdata": "31YLQeCoC0HhTAxB4ccMQePmDUHkOA5B5QUPQeUuD0HmqQ9B5vsPQeefEEHnnxBB6ecRQeoQEkHqORJB6jkSQewvE0HsqhNB",
          "dtype": "f4"
         },
         "y": {
          "bdata": "iZwgwEPVIsAYeg/ANPkpwJeZIsB0EybA/3QdwFy1K8C4+i7A4IYjwNmELcAwNjDAb9IuwFIPLsC6zjDAlz4twBw3L8Ab1j3A",
          "dtype": "f4"
         }
        },
        {
         "legendgroup": "training_data",
         "mode": "markers",
         "name": "Training Data",
         "showlegend": false,
         "type": "scatter",
         "x": {
          "bdata": "CpEmQB0ZMkAlOTdAJt03QCglOUApyTlALv08QEEpSUBDcUpASklOQEpJTkA=",
          "dtype": "f4"
         },
         "y": {
          "bdata": "Zy2lv9UDIr+EtKS+ZwVKvpbP9r3f5Du9bgafPUwI9j4RXfk+aAMEP8Inpz4=",
          "dtype": "f4"
         }
        },
        {
         "legendgroup": "training_data",
         "mode": "markers",
         "name": "Training Data",
         "showlegend": false,
         "type": "scatter",
         "x": {
          "bdata": "U2nTQFUD1UBZQddAWjfYQF0j2kBm599AZuffQGkv4UBqJeJAaiXiQGvJ4kBsG+NAcKvlQA==",
          "dtype": "f4"
         },
         "y": {
          "bdata": "dJkLwATPt79wvgPALFcYwNDXWMBQ49+/pNvUvxtZAMDtEh7AJeQqwNTQNMB5WkXARFRWwA==",
          "dtype": "f4"
         }
        },
        {
         "legendgroup": "training_data",
         "mode": "markers",
         "name": "Training Data",
         "showlegend": false,
         "type": "scatter",
         "x": {
          "bdata": "BgEkPQYBpD43wcI+SAHNPokB9j7RsAI/4fAMP/IwFz/+4B4/",
          "dtype": "f4"
         },
         "y": {
          "bdata": "BahUPufEAz44o3q+D6sFvyn1b78PglO/7Dpzv1DcGr+mFMW+",
          "dtype": "f4"
         }
        },
        {
         "legendgroup": "training_data",
         "mode": "markers",
         "name": "Training Data",
         "showlegend": false,
         "type": "scatter",
         "x": {
          "bdata": "6RCSQOsGk0DsqpNA7U6UQO/olUDwOpZA9MqYQPVumUD9jp5A/jKfQP/Wn0ADcaFABBWiQARnokAGr6NA",
          "dtype": "f4"
         },
         "y": {
          "bdata": "1wQTwEQDH8BQ4CXAduAgwGcxIcAqLSvAMdcuwBX9LsAATUXAkiBFwNFzQ8AO3UfAeNVCwKPQWsCjokrA",
          "dtype": "f4"
         }
        },
        {
         "legendgroup": "training_data",
         "mode": "markers",
         "name": "Training Data",
         "showlegend": false,
         "type": "scatter",
         "x": {
          "bdata": "/JidPwqRpj8Qaao/GtGwPyU5tz8tWbw/MzHAPzV5wT9IAc0/UCHSP1hB1z9aidg/aIHhP2rJ4j8=",
          "dtype": "f4"
         },
         "y": {
          "bdata": "xppWvzqiZ77Vblg9+qgZP7jBWT+CyIo/BliGP6QBVT8f/9M+vvaBPnouMr42S8++D9h4v8paXL8=",
          "dtype": "f4"
         }
        },
        {
         "legendgroup": "training_data",
         "mode": "markers",
         "name": "Training Data",
         "showlegend": false,
         "type": "scatter",
         "x": {
          "bdata": "dDvoQHUx6UB5wetAfK3tQHyt7UCDhfFAg9fxQIXN8kCHZ/RAigH2QI7j+ECQK/pA",
          "dtype": "f4"
         },
         "y": {
          "bdata": "4ZD0v7gQxr9nzxHAlUtMwKOOTMCM1RTAzzgSwCpx3b+MW9S/HB4XwNVcUcCc+FTA",
          "dtype": "f4"
         }
        },
        {
         "legendgroup": "training_data",
         "mode": "markers",
         "name": "Training Data",
         "showlegend": false,
         "type": "scatter",
         "x": {
          "bdata": "L/28QC9PvUAw871AMZe+QDLpvkA5ZcNAQYXIQELXyEBDe8lAQ3vJQEQfykBEccpARmfLQEgBzUBJpc1ASaXNQE3jz0BOh9BAUCHSQA==",
          "dtype": "f4"
         },
         "y": {
          "bdata": "nwcTwLO3DcDenPe/IxfwvwIn978j6wTAyKtGwNDgJ8A8thDAK4AdwL6WBcDlOeG/aWTSv/R67b8wkhvA8CsOwA3/YcC9NGvAXEBSwA==",
          "dtype": "f4"
         }
        },
        {
         "legendgroup": "training_data",
         "mode": "markers",
         "name": "Training Data",
         "showlegend": false,
         "type": "scatter",
         "x": {
          "bdata": "Uw1UQFzRWUBc0VlAY01eQG21ZEBv/WVAculnQHUxaUB6ZWxAfVFuQIA9cECAPXBAi0l3QA==",
          "dtype": "f4"
         },
         "y": {
          "bdata": "njZkPkepnzzuhXm9ITrcvvY8N79V3iy/huRVv0uhlb9dZpe/AzeXv5P2pr+T96q/83vJvw==",
          "dtype": "f4"
         }
        },
        {
         "legendgroup": "training_data",
         "mode": "markers",
         "name": "Training Data",
         "showlegend": false,
         "type": "scatter",
         "x": {
          "bdata": "720VQfC/FUHwERZB8YwWQfIHF0H0eBhB9MoYQfVFGUH4thpB+dUbQfsdHUH9PB5B/o4eQf63HkH/Mh9BANcfQQ==",
          "dtype": "f4"
         },
         "y": {
          "bdata": "yDVCwCeWQsDrFkTALXE9wLNFSMBRN03A2aNPwDXzScAsr0vADvlZwDyBVMDAi2DA58FkwJ8EZMABYHHA5OVywA==",
          "dtype": "f4"
         }
        },
        {
         "legendgroup": "training_data",
         "mode": "markers",
         "name": "Training Data",
         "showlegend": false,
         "type": "scatter",
         "x": {
          "bdata": "0DUCQdGHAkHT+ANB1mkFQdZpBUHXDQZB14gGQdgDB0HZfgdB2nQIQQ==",
          "dtype": "f4"
         },
         "y": {
          "bdata": "x0gEwAMVBcBJmwrAUAcSwCTTCsAF9RbAERsPwPn5FsB3sg3AOnkOwA==",
          "dtype": "f4"
         }
        },
        {
         "legendgroup": "training_data",
         "mode": "markers",
         "name": "Training Data",
         "showlegend": false,
         "type": "scatter",
         "x": {
          "bdata": "ErErPxrRMD8a0TA/O1FFP2iBYT9sEWQ/dTFpP4Vxcz+FcXM/kSF7P89ogT/T+IM/14iGP9sYiT8=",
          "dtype": "f4"
         },
         "y": {
          "bdata": "xivQPefDjD7574k+jWx2P4l3gj8jwmY/WJlZP65hvj4RUBE/Q/dUPs78UL6B5dm+mNnbvvtB6L4=",
          "dtype": "f4"
         }
        },
        {
         "legendgroup": "training_data",
         "mode": "markers",
         "name": "Training Data",
         "showlegend": false,
         "type": "scatter",
         "x": {
          "bdata": "i0n3P5Np/D+X+f4/2CwHQN1gCkDeBAtA8YwWQPGMFkD0eBhA9sAZQPbAGUAGASRA",
          "dtype": "f4"
         },
         "y": {
          "bdata": "BVcmvzbYZ76ASum6b6MLv+SBN78VaSy/3POjv+Banb+DFMS/vceov476vr9u3aC/",
          "dtype": "f4"
         }
        },
        {
         "legendgroup": "training_data",
         "mode": "markers",
         "name": "Training Data",
         "showlegend": false,
         "type": "scatter",
         "x": {
          "bdata": "Ds+oQBDFqUAQxalAEReqQBZLrUAX761AGJOuQBotsEAbf7BAHRmyQCFXtEAklbZAJou3QA==",
          "dtype": "f4"
         },
         "y": {
          "bdata": "FhJHwCqaUMDqKkXAvLRKwFd5P8DvQ0bA4BNAwF6NOcBFNjfAkLE4wIDqIcCLCSbAYhwawA==",
          "dtype": "f4"
         }
        },
        {
         "legendgroup": "training_data",
         "mode": "markers",
         "name": "Training Data",
         "showlegend": false,
         "type": "scatter",
         "x": {
          "bdata": "lbF9QJidf0DPuoFA0QKDQNSchEDUnIRA2xiJQN1gikDgTIxA4kKNQOM4jkA=",
          "dtype": "f4"
         },
         "y": {
          "bdata": "IS+gvyF5kb9eYKe/gi3Av16xr7+S+MS/TpvUv/r947+LlfC/5zruvwKaDsA=",
          "dtype": "f4"
         }
        }
       ],
       "layout": {
        "legend": {
         "orientation": "h",
         "x": 1,
         "xanchor": "right",
         "y": 1.02,
         "yanchor": "bottom"
        },
        "template": {
         "data": {
          "bar": [
           {
            "error_x": {
             "color": "#2a3f5f"
            },
            "error_y": {
             "color": "#2a3f5f"
            },
            "marker": {
             "line": {
              "color": "#E5ECF6",
              "width": 0.5
             },
             "pattern": {
              "fillmode": "overlay",
              "size": 10,
              "solidity": 0.2
             }
            },
            "type": "bar"
           }
          ],
          "barpolar": [
           {
            "marker": {
             "line": {
              "color": "#E5ECF6",
              "width": 0.5
             },
             "pattern": {
              "fillmode": "overlay",
              "size": 10,
              "solidity": 0.2
             }
            },
            "type": "barpolar"
           }
          ],
          "carpet": [
           {
            "aaxis": {
             "endlinecolor": "#2a3f5f",
             "gridcolor": "white",
             "linecolor": "white",
             "minorgridcolor": "white",
             "startlinecolor": "#2a3f5f"
            },
            "baxis": {
             "endlinecolor": "#2a3f5f",
             "gridcolor": "white",
             "linecolor": "white",
             "minorgridcolor": "white",
             "startlinecolor": "#2a3f5f"
            },
            "type": "carpet"
           }
          ],
          "choropleth": [
           {
            "colorbar": {
             "outlinewidth": 0,
             "ticks": ""
            },
            "type": "choropleth"
           }
          ],
          "contour": [
           {
            "colorbar": {
             "outlinewidth": 0,
             "ticks": ""
            },
            "colorscale": [
             [
              0,
              "#0d0887"
             ],
             [
              0.1111111111111111,
              "#46039f"
             ],
             [
              0.2222222222222222,
              "#7201a8"
             ],
             [
              0.3333333333333333,
              "#9c179e"
             ],
             [
              0.4444444444444444,
              "#bd3786"
             ],
             [
              0.5555555555555556,
              "#d8576b"
             ],
             [
              0.6666666666666666,
              "#ed7953"
             ],
             [
              0.7777777777777778,
              "#fb9f3a"
             ],
             [
              0.8888888888888888,
              "#fdca26"
             ],
             [
              1,
              "#f0f921"
             ]
            ],
            "type": "contour"
           }
          ],
          "contourcarpet": [
           {
            "colorbar": {
             "outlinewidth": 0,
             "ticks": ""
            },
            "type": "contourcarpet"
           }
          ],
          "heatmap": [
           {
            "colorbar": {
             "outlinewidth": 0,
             "ticks": ""
            },
            "colorscale": [
             [
              0,
              "#0d0887"
             ],
             [
              0.1111111111111111,
              "#46039f"
             ],
             [
              0.2222222222222222,
              "#7201a8"
             ],
             [
              0.3333333333333333,
              "#9c179e"
             ],
             [
              0.4444444444444444,
              "#bd3786"
             ],
             [
              0.5555555555555556,
              "#d8576b"
             ],
             [
              0.6666666666666666,
              "#ed7953"
             ],
             [
              0.7777777777777778,
              "#fb9f3a"
             ],
             [
              0.8888888888888888,
              "#fdca26"
             ],
             [
              1,
              "#f0f921"
             ]
            ],
            "type": "heatmap"
           }
          ],
          "histogram": [
           {
            "marker": {
             "pattern": {
              "fillmode": "overlay",
              "size": 10,
              "solidity": 0.2
             }
            },
            "type": "histogram"
           }
          ],
          "histogram2d": [
           {
            "colorbar": {
             "outlinewidth": 0,
             "ticks": ""
            },
            "colorscale": [
             [
              0,
              "#0d0887"
             ],
             [
              0.1111111111111111,
              "#46039f"
             ],
             [
              0.2222222222222222,
              "#7201a8"
             ],
             [
              0.3333333333333333,
              "#9c179e"
             ],
             [
              0.4444444444444444,
              "#bd3786"
             ],
             [
              0.5555555555555556,
              "#d8576b"
             ],
             [
              0.6666666666666666,
              "#ed7953"
             ],
             [
              0.7777777777777778,
              "#fb9f3a"
             ],
             [
              0.8888888888888888,
              "#fdca26"
             ],
             [
              1,
              "#f0f921"
             ]
            ],
            "type": "histogram2d"
           }
          ],
          "histogram2dcontour": [
           {
            "colorbar": {
             "outlinewidth": 0,
             "ticks": ""
            },
            "colorscale": [
             [
              0,
              "#0d0887"
             ],
             [
              0.1111111111111111,
              "#46039f"
             ],
             [
              0.2222222222222222,
              "#7201a8"
             ],
             [
              0.3333333333333333,
              "#9c179e"
             ],
             [
              0.4444444444444444,
              "#bd3786"
             ],
             [
              0.5555555555555556,
              "#d8576b"
             ],
             [
              0.6666666666666666,
              "#ed7953"
             ],
             [
              0.7777777777777778,
              "#fb9f3a"
             ],
             [
              0.8888888888888888,
              "#fdca26"
             ],
             [
              1,
              "#f0f921"
             ]
            ],
            "type": "histogram2dcontour"
           }
          ],
          "mesh3d": [
           {
            "colorbar": {
             "outlinewidth": 0,
             "ticks": ""
            },
            "type": "mesh3d"
           }
          ],
          "parcoords": [
           {
            "line": {
             "colorbar": {
              "outlinewidth": 0,
              "ticks": ""
             }
            },
            "type": "parcoords"
           }
          ],
          "pie": [
           {
            "automargin": true,
            "type": "pie"
           }
          ],
          "scatter": [
           {
            "fillpattern": {
             "fillmode": "overlay",
             "size": 10,
             "solidity": 0.2
            },
            "type": "scatter"
           }
          ],
          "scatter3d": [
           {
            "line": {
             "colorbar": {
              "outlinewidth": 0,
              "ticks": ""
             }
            },
            "marker": {
             "colorbar": {
              "outlinewidth": 0,
              "ticks": ""
             }
            },
            "type": "scatter3d"
           }
          ],
          "scattercarpet": [
           {
            "marker": {
             "colorbar": {
              "outlinewidth": 0,
              "ticks": ""
             }
            },
            "type": "scattercarpet"
           }
          ],
          "scattergeo": [
           {
            "marker": {
             "colorbar": {
              "outlinewidth": 0,
              "ticks": ""
             }
            },
            "type": "scattergeo"
           }
          ],
          "scattergl": [
           {
            "marker": {
             "colorbar": {
              "outlinewidth": 0,
              "ticks": ""
             }
            },
            "type": "scattergl"
           }
          ],
          "scattermap": [
           {
            "marker": {
             "colorbar": {
              "outlinewidth": 0,
              "ticks": ""
             }
            },
            "type": "scattermap"
           }
          ],
          "scattermapbox": [
           {
            "marker": {
             "colorbar": {
              "outlinewidth": 0,
              "ticks": ""
             }
            },
            "type": "scattermapbox"
           }
          ],
          "scatterpolar": [
           {
            "marker": {
             "colorbar": {
              "outlinewidth": 0,
              "ticks": ""
             }
            },
            "type": "scatterpolar"
           }
          ],
          "scatterpolargl": [
           {
            "marker": {
             "colorbar": {
              "outlinewidth": 0,
              "ticks": ""
             }
            },
            "type": "scatterpolargl"
           }
          ],
          "scatterternary": [
           {
            "marker": {
             "colorbar": {
              "outlinewidth": 0,
              "ticks": ""
             }
            },
            "type": "scatterternary"
           }
          ],
          "surface": [
           {
            "colorbar": {
             "outlinewidth": 0,
             "ticks": ""
            },
            "colorscale": [
             [
              0,
              "#0d0887"
             ],
             [
              0.1111111111111111,
              "#46039f"
             ],
             [
              0.2222222222222222,
              "#7201a8"
             ],
             [
              0.3333333333333333,
              "#9c179e"
             ],
             [
              0.4444444444444444,
              "#bd3786"
             ],
             [
              0.5555555555555556,
              "#d8576b"
             ],
             [
              0.6666666666666666,
              "#ed7953"
             ],
             [
              0.7777777777777778,
              "#fb9f3a"
             ],
             [
              0.8888888888888888,
              "#fdca26"
             ],
             [
              1,
              "#f0f921"
             ]
            ],
            "type": "surface"
           }
          ],
          "table": [
           {
            "cells": {
             "fill": {
              "color": "#EBF0F8"
             },
             "line": {
              "color": "white"
             }
            },
            "header": {
             "fill": {
              "color": "#C8D4E3"
             },
             "line": {
              "color": "white"
             }
            },
            "type": "table"
           }
          ]
         },
         "layout": {
          "annotationdefaults": {
           "arrowcolor": "#2a3f5f",
           "arrowhead": 0,
           "arrowwidth": 1
          },
          "autotypenumbers": "strict",
          "coloraxis": {
           "colorbar": {
            "outlinewidth": 0,
            "ticks": ""
           }
          },
          "colorscale": {
           "diverging": [
            [
             0,
             "#8e0152"
            ],
            [
             0.1,
             "#c51b7d"
            ],
            [
             0.2,
             "#de77ae"
            ],
            [
             0.3,
             "#f1b6da"
            ],
            [
             0.4,
             "#fde0ef"
            ],
            [
             0.5,
             "#f7f7f7"
            ],
            [
             0.6,
             "#e6f5d0"
            ],
            [
             0.7,
             "#b8e186"
            ],
            [
             0.8,
             "#7fbc41"
            ],
            [
             0.9,
             "#4d9221"
            ],
            [
             1,
             "#276419"
            ]
           ],
           "sequential": [
            [
             0,
             "#0d0887"
            ],
            [
             0.1111111111111111,
             "#46039f"
            ],
            [
             0.2222222222222222,
             "#7201a8"
            ],
            [
             0.3333333333333333,
             "#9c179e"
            ],
            [
             0.4444444444444444,
             "#bd3786"
            ],
            [
             0.5555555555555556,
             "#d8576b"
            ],
            [
             0.6666666666666666,
             "#ed7953"
            ],
            [
             0.7777777777777778,
             "#fb9f3a"
            ],
            [
             0.8888888888888888,
             "#fdca26"
            ],
            [
             1,
             "#f0f921"
            ]
           ],
           "sequentialminus": [
            [
             0,
             "#0d0887"
            ],
            [
             0.1111111111111111,
             "#46039f"
            ],
            [
             0.2222222222222222,
             "#7201a8"
            ],
            [
             0.3333333333333333,
             "#9c179e"
            ],
            [
             0.4444444444444444,
             "#bd3786"
            ],
            [
             0.5555555555555556,
             "#d8576b"
            ],
            [
             0.6666666666666666,
             "#ed7953"
            ],
            [
             0.7777777777777778,
             "#fb9f3a"
            ],
            [
             0.8888888888888888,
             "#fdca26"
            ],
            [
             1,
             "#f0f921"
            ]
           ]
          },
          "colorway": [
           "#636efa",
           "#EF553B",
           "#00cc96",
           "#ab63fa",
           "#FFA15A",
           "#19d3f3",
           "#FF6692",
           "#B6E880",
           "#FF97FF",
           "#FECB52"
          ],
          "font": {
           "color": "#2a3f5f"
          },
          "geo": {
           "bgcolor": "white",
           "lakecolor": "white",
           "landcolor": "#E5ECF6",
           "showlakes": true,
           "showland": true,
           "subunitcolor": "white"
          },
          "hoverlabel": {
           "align": "left"
          },
          "hovermode": "closest",
          "mapbox": {
           "style": "light"
          },
          "paper_bgcolor": "white",
          "plot_bgcolor": "#E5ECF6",
          "polar": {
           "angularaxis": {
            "gridcolor": "white",
            "linecolor": "white",
            "ticks": ""
           },
           "bgcolor": "#E5ECF6",
           "radialaxis": {
            "gridcolor": "white",
            "linecolor": "white",
            "ticks": ""
           }
          },
          "scene": {
           "xaxis": {
            "backgroundcolor": "#E5ECF6",
            "gridcolor": "white",
            "gridwidth": 2,
            "linecolor": "white",
            "showbackground": true,
            "ticks": "",
            "zerolinecolor": "white"
           },
           "yaxis": {
            "backgroundcolor": "#E5ECF6",
            "gridcolor": "white",
            "gridwidth": 2,
            "linecolor": "white",
            "showbackground": true,
            "ticks": "",
            "zerolinecolor": "white"
           },
           "zaxis": {
            "backgroundcolor": "#E5ECF6",
            "gridcolor": "white",
            "gridwidth": 2,
            "linecolor": "white",
            "showbackground": true,
            "ticks": "",
            "zerolinecolor": "white"
           }
          },
          "shapedefaults": {
           "line": {
            "color": "#2a3f5f"
           }
          },
          "ternary": {
           "aaxis": {
            "gridcolor": "white",
            "linecolor": "white",
            "ticks": ""
           },
           "baxis": {
            "gridcolor": "white",
            "linecolor": "white",
            "ticks": ""
           },
           "bgcolor": "#E5ECF6",
           "caxis": {
            "gridcolor": "white",
            "linecolor": "white",
            "ticks": ""
           }
          },
          "title": {
           "x": 0.05
          },
          "xaxis": {
           "automargin": true,
           "gridcolor": "white",
           "linecolor": "white",
           "ticks": "",
           "title": {
            "standoff": 15
           },
           "zerolinecolor": "white",
           "zerolinewidth": 2
          },
          "yaxis": {
           "automargin": true,
           "gridcolor": "white",
           "linecolor": "white",
           "ticks": "",
           "title": {
            "standoff": 15
           },
           "zerolinecolor": "white",
           "zerolinewidth": 2
          }
         }
        },
        "title": {
         "text": "GP Posterior vs True Function"
        },
        "xaxis": {
         "range": [
          0,
          10
         ],
         "title": {
          "text": "x"
         }
        },
        "yaxis": {
         "title": {
          "text": "y"
         }
        }
       }
      }
     },
     "metadata": {},
     "output_type": "display_data"
    }
   ],
   "source": [
    "# Plot the predictions\n",
    "\n",
    "fig = go.Figure()\n",
    "\n",
    "# Plot posterior samples\n",
    "for i in range(num_posterior_samples):\n",
    "    fig.add_trace(\n",
    "        go.Scatter(\n",
    "            x=true_x,\n",
    "            y=samples[:, i],\n",
    "            mode=\"lines\",\n",
    "            line=dict(color=\"rgba(0,100,255,0.1)\"),\n",
    "            name=\"Posterior Sample\",\n",
    "            legendgroup=\"posterior_sample\",\n",
    "            showlegend=(i == 0),\n",
    "        )\n",
    "    )\n",
    "\n",
    "# Plot mean prediction\n",
    "fig.add_trace(\n",
    "    go.Scatter(\n",
    "        x=true_x,\n",
    "        y=mean,\n",
    "        mode=\"lines\",\n",
    "        line=dict(color=\"blue\"),\n",
    "        name=\"Posterior Mean\",\n",
    "    )\n",
    ")\n",
    "\n",
    "# Plot confidence bounds\n",
    "fig.add_trace(\n",
    "    go.Scatter(\n",
    "        x=torch.cat([true_x, true_x.flip(0)]),\n",
    "        y=torch.cat([upper, lower.flip(0)]),\n",
    "        fill=\"toself\",\n",
    "        fillcolor=\"rgba(0,100,255,0.2)\",\n",
    "        line=dict(color=\"rgba(255,255,255,0)\"),\n",
    "        name=\"95% Confidence\",\n",
    "    )\n",
    ")\n",
    "\n",
    "# Plot true function\n",
    "fig.add_trace(\n",
    "    go.Scatter(\n",
    "        x=true_x, y=true_y, mode=\"lines\", line=dict(color=\"red\"), name=\"True Function\"\n",
    "    )\n",
    ")\n",
    "\n",
    "# Plot training data\n",
    "for part_x, part_y in model.partitions:\n",
    "    fig.add_trace(\n",
    "        go.Scatter(\n",
    "            x=part_x.view(-1),\n",
    "            y=part_y.view(-1),\n",
    "            mode=\"markers\",\n",
    "            name=\"Training Data\",\n",
    "            legendgroup=\"training_data\",\n",
    "            showlegend=(i == 0),\n",
    "        )\n",
    "    )\n",
    "\n",
    "# Update layout\n",
    "fig.update_xaxes(range=[0, 10])\n",
    "fig.update_layout(\n",
    "    title=\"GP Posterior vs True Function\", xaxis_title=\"x\", yaxis_title=\"y\"\n",
    ")\n",
    "fig.update_layout(\n",
    "    legend=dict(orientation=\"h\", yanchor=\"bottom\", y=1.02, xanchor=\"right\", x=1)\n",
    ")\n",
    "\n",
    "if image_type == \"html\":\n",
    "    fig.show()\n",
    "elif image_type == \"static\":\n",
    "    display(Image(fig.to_image(format=\"png\", width=900, height=350)))"
   ]
  },
  {
   "cell_type": "code",
   "execution_count": 9,
   "metadata": {},
   "outputs": [
    {
     "data": {
      "application/vnd.plotly.v1+json": {
       "config": {
        "plotlyServerURL": "https://plot.ly"
       },
       "data": [
        {
         "legendgroup": "posterior_sample",
         "line": {
          "color": "rgba(0,100,255,0.1)"
         },
         "mode": "lines",
         "name": "Posterior Sample",
         "showlegend": true,
         "type": "scatter",
         "x": {
          "bdata": "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",
          "dtype": "f4"
         },
         "xaxis": "x",
         "y": {
          "bdata": "KAOHPkIQPz6bokA+jr63PhuTKT6Q1Nm9oM24PnxqE72mU6g9bKcCvmQqtL1qBaY+",
          "dtype": "f4"
         },
         "yaxis": "y"
        },
        {
         "legendgroup": "posterior_sample",
         "line": {
          "color": "rgba(0,100,255,0.1)"
         },
         "mode": "lines",
         "name": "Posterior Sample",
         "showlegend": false,
         "type": "scatter",
         "x": {
          "bdata": "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",
          "dtype": "f4"
         },
         "xaxis": "x",
         "y": {
          "bdata": "WeGAPvmYTT6VrzI+hfOpPsKIOT4w1yq9b9+wPhA+PTzSTdk9HGuwvbBwKL21yo8+",
          "dtype": "f4"
         },
         "yaxis": "y"
        },
        {
         "legendgroup": "posterior_sample",
         "line": {
          "color": "rgba(0,100,255,0.1)"
         },
         "mode": "lines",
         "name": "Posterior Sample",
         "showlegend": false,
         "type": "scatter",
         "x": {
          "bdata": "AAAAAAYBJDwGAaQ8iQH2PAYBJD1IAU09iQF2PeWAjz0GAaQ9J4G4PUgBzT1ogeE9iQH2PdVABT7lgA8+9sAZPgYBJD4WQS4+J4E4PjfBQj5IAU0+WEFXPmiBYT55wWs+iQF2Ps0ggD7VQIU+3WCKPuWAjz7toJQ+9sCZPv7gnj4GAaQ+DiGpPhZBrj4fYbM+J4G4Pi+hvT43wcI+P+HHPkgBzT5QIdI+WEHXPmBh3D5ogeE+cKHmPnnB6z6B4fA+iQH2PpEh+z7NIAA/0bACP9VABT/Z0Ac/3WAKP+HwDD/lgA8/6RASP+2gFD/yMBc/9sAZP/pQHD/+4B4/AnEhPwYBJD8KkSY/DiEpPxKxKz8WQS4/GtEwPx9hMz8j8TU/J4E4PysROz8voT0/MzFAPzfBQj87UUU/P+FHP0NxSj9IAU0/TJFPP1AhUj9UsVQ/WEFXP1zRWT9gYVw/ZPFeP2iBYT9sEWQ/cKFmP3UxaT95wWs/fVFuP4HhcD+FcXM/iQF2P42ReD+RIXs/lbF9P80ggD/PaIE/0bCCP9P4gz/VQIU/14iGP9nQhz/bGIk/3WCKP9+oiz/h8Iw/4ziOP+WAjz/nyJA/6RCSP+tYkz/toJQ/7+iVP/Iwlz/0eJg/9sCZP/gImz/6UJw//JidP/7gnj8AKaA/AnGhPwS5oj8GAaQ/CEmlPwqRpj8M2ac/DiGpPxBpqj8Ssas/FPmsPxZBrj8Yia8/GtGwPx0Zsj8fYbM/Iam0PyPxtT8lObc/J4G4PynJuT8rEbs/LVm8Py+hvT8x6b4/MzHAPzV5wT83wcI/OQnEPztRxT89mcY/P+HHP0EpyT9Dcco/RbnLP0gBzT9KSc4/TJHPP07Z0D9QIdI/UmnTP1Sx1D9W+dU/WEHXP1qJ2D9c0dk/XhnbP2Bh3D9iqd0/ZPHeP2Y54D9ogeE/asniP2wR5D9uWeU/cKHmP3Lp5z91Mek/d3nqP3nB6z97Ce0/fVHuP3+Z7z+B4fA/gynyP4Vx8z+HufQ/iQH2P4tJ9z+Nkfg/j9n5P5Eh+z+Tafw/lbH9P5f5/j/NIABAzsQAQM9oAUDQDAJA0bACQNJUA0DT+ANA1JwEQNVABUDW5AVA14gGQNgsB0DZ0AdA2nQIQNsYCUDcvAlA3WAKQN4EC0DfqAtA4EwMQOHwDEDilA1A4zgOQOTcDkDlgA9A5iQQQOfIEEDobBFA6RASQOq0EkDrWBNA7PwTQO2gFEDuRBVA7+gVQPGMFkDyMBdA89QXQPR4GED1HBlA9sAZQPdkGkD4CBtA+awbQPpQHED79BxA/JgdQP08HkD+4B5A/4QfQAApIEABzSBAAnEhQAMVIkAEuSJABV0jQAYBJEAHpSRACEklQAntJUAKkSZACzUnQAzZJ0ANfShADiEpQA/FKUAQaSpAEQ0rQBKxK0ATVSxAFPksQBWdLUAWQS5AF+UuQBiJL0AZLTBAGtEwQBt1MUAdGTJAHr0yQB9hM0AgBTRAIak0QCJNNUAj8TVAJJU2QCU5N0Am3TdAJ4E4QCglOUApyTlAKm06QCsRO0AstTtALVk8QC79PEAvoT1AMEU+QDHpPkAyjT9AMzFAQDTVQEA1eUFANh1CQDfBQkA4ZUNAOQlEQDqtREA7UUVAPPVFQD2ZRkA+PUdAP+FHQECFSEBBKUlAQs1JQENxSkBEFUtARblLQEZdTEBIAU1ASaVNQEpJTkBL7U5ATJFPQE01UEBO2VBAT31RQFAhUkBRxVJAUmlTQFMNVEBUsVRAVVVVQFb5VUBXnVZAWEFXQFnlV0BaiVhAWy1ZQFzRWUBddVpAXhlbQF+9W0BgYVxAYQVdQGKpXUBjTV5AZPFeQGWVX0BmOWBAZ91gQGiBYUBpJWJAasliQGttY0BsEWRAbbVkQG5ZZUBv/WVAcKFmQHFFZ0By6WdAdI1oQHUxaUB21WlAd3lqQHgda0B5wWtAemVsQHsJbUB8rW1AfVFuQH71bkB/mW9AgD1wQIHhcECChXFAgylyQITNckCFcXNAhhV0QIe5dECIXXVAiQF2QIqldkCLSXdAjO13QI2ReECONXlAj9l5QJB9ekCRIXtAksV7QJNpfECUDX1AlbF9QJZVfkCX+X5AmJ1/QM0ggEDNcoBAzsSAQM4WgUDPaIFAz7qBQNAMgkDQXoJA0bCCQNECg0DSVINA0qaDQNP4g0DTSoRA1JyEQNTuhEDVQIVA1ZKFQNbkhUDWNoZA14iGQNfahkDYLIdA2H6HQNnQh0DZIohA2nSIQNvGiEDbGIlA3GqJQNy8iUDdDopA3WCKQN6yikDeBItA31aLQN+oi0Dg+otA4EyMQOGejEDh8IxA4kKNQOKUjUDj5o1A4ziOQOSKjkDk3I5A5S6PQOWAj0Dm0o9A5iSQQOd2kEDnyJBA6BqRQOhskUDpvpFA6RCSQOpikkDqtJJA6waTQOtYk0DsqpNA7PyTQO1OlEDtoJRA7vKUQO5ElUDvlpVA7+iVQPA6lkDxjJZA8d6WQPIwl0DygpdA89SXQPMmmED0eJhA9MqYQPUcmUD1bplA9sCZQPYSmkD3ZJpA97aaQPgIm0D4WptA+aybQPn+m0D6UJxA+qKcQPv0nED7Rp1A/JidQPzqnUD9PJ5A/Y6eQP7gnkD+Mp9A/4SfQP/Wn0ABKaBAAXugQALNoEACH6FAA3GhQAPDoUAEFaJABGeiQAW5okAFC6NABl2jQAavo0AHAaRAB1OkQAilpEAI96RACUmlQAmbpUAK7aVACj+mQAuRpkAL46ZADDWnQAyHp0AN2adADSuoQA59qEAOz6hADyGpQA9zqUAQxalAEReqQBFpqkASu6pAEg2rQBNfq0ATsatAFAOsQBRVrEAVp6xAFfmsQBZLrUAWna1AF++tQBdBrkAYk65AGOWuQBk3r0AZia9AGtuvQBotsEAbf7BAG9GwQBwjsUAcdbFAHcexQB0ZskAea7JAHr2yQB8Ps0AfYbNAILOzQCAFtEAhV7RAIam0QCL7tEAiTbVAI5+1QCPxtUAkQ7ZAJJW2QCXntkAlObdAJou3QCfdt0AnL7hAKIG4QCjTuEApJblAKXe5QCrJuUAqG7pAK226QCu/ukAsEbtALGO7QC21u0AtB7xALlm8QC6rvEAv/bxAL0+9QDChvUAw871AMUW+QDGXvkAy6b5AMju/QDONv0Az379ANDHAQDSDwEA11cBANSfBQDZ5wUA2y8FANx3CQDdvwkA4wcJAOBPDQDllw0A5t8NAOgnEQDpbxEA7rcRAPP/EQDxRxUA9o8VAPfXFQD5HxkA+mcZAP+vGQD89x0BAj8dAQOHHQEEzyEBBhchAQtfIQEIpyUBDe8lAQ83JQEQfykBEccpARcPKQEUVy0BGZ8tARrnLQEcLzEBHXcxASK/MQEgBzUBJU81ASaXNQEr3zUBKSc5AS5vOQEvtzkBMP89ATJHPQE3jz0BNNdBATofQQE7Z0EBPK9FAT33RQFDP0UBQIdJAUXPSQFLF0kBSF9NAU2nTQFO700BUDdRAVF/UQFWx1EBVA9VAVlXVQFan1UBX+dVAV0vWQFid1kBY79ZAWUHXQFmT10Ba5ddAWjfYQFuJ2EBb29hAXC3ZQFx/2UBd0dlAXSPaQF512kBex9pAXxnbQF9r20BgvdtAYA/cQGFh3EBhs9xAYgXdQGJX3UBjqd1AY/vdQGRN3kBkn95AZfHeQGVD30Bmld9AZuffQGc54EBoi+BAaN3gQGkv4UBpgeFAatPhQGol4kBrd+JAa8niQGwb40BsbeNAbb/jQG0R5EBuY+RAbrXkQG8H5UBvWeVAcKvlQHD95UBxT+ZAcaHmQHLz5kByRedAc5fnQHPp50B0O+hAdI3oQHXf6EB1MelAdoPpQHbV6UB3J+pAd3nqQHjL6kB4HetAeW/rQHnB60B6E+xAemXsQHu37EB7Ce1AfFvtQHyt7UB9/+1AflHuQH6j7kB/9e5Af0fvQICZ70CA6+9AgT3wQIGP8ECC4fBAgjPxQIOF8UCD1/FAhCnyQIR78kCFzfJAhR/zQIZx80CGw/NAhxX0QIdn9ECIufRAiAv1QIld9UCJr/VAigH2QIpT9kCLpfZAi/f2QIxJ90CMm/dAje33QI0/+ECOkfhAjuP4QI81+UCPh/lAkNn5QJAr+kCRffpAkc/6QJIh+0CSc/tAk8X7QJQX/ECUafxAlbv8QJUN/UCWX/1AlrH9QJcD/kCXVf5AmKf+QJj5/kCZS/9AmZ3/QJrv/0DNIABBzUkAQc5yAEHOmwBBzsQAQc7tAEHPFgFBzz8BQc9oAUHPkQFB0LoBQdDjAUHQDAJB0DUCQdFeAkHRhwJB0bACQdHZAkHSAgNB0isDQdJUA0HSfQNB06YDQdPPA0HT+ANB0yEEQdRKBEHUcwRB1JwEQdXFBEHV7gRB1RcFQdVABUHWaQVB1pIFQda7BUHW5AVB1w0GQdc2BkHXXwZB14gGQdixBkHY2gZB2AMHQdgsB0HZVQdB2X4HQdmnB0HZ0AdB2vkHQdoiCEHaSwhB2nQIQdudCEHbxghB2+8IQdsYCUHcQQlB3GoJQdyTCUHcvAlB3eUJQd0OCkHdNwpB3WAKQd6JCkHesgpB3tsKQd4EC0HfLQtB31YLQd9/C0HgqAtB4NELQeD6C0HgIwxB4UwMQeF1DEHhngxB4ccMQeLwDEHiGQ1B4kINQeJrDUHjlA1B470NQePmDUHjDw5B5DgOQeRhDkHkig5B5LMOQeXcDkHlBQ9B5S4PQeVXD0HmgA9B5qkPQebSD0Hm+w9B5yQQQedNEEHndhBB558QQejIEEHo8RBB6BoRQehDEUHpbBFB6ZURQem+EUHp5xFB6hASQeo5EkHqYhJB64sSQeu0EkHr3RJB6wYTQewvE0HsWBNB7IETQeyqE0Ht0xNB7fwTQe0lFEHtThRB7ncUQe6gFEHuyRRB7vIUQe8bFUHvRBVB720VQe+WFUHwvxVB8OgVQfARFkHwOhZB8WMWQfGMFkHxtRZB8d4WQfIHF0HyMBdB8lkXQfKCF0HzqxdB89QXQfP9F0HzJhhB9E8YQfR4GEH0oRhB9MoYQfXzGEH1HBlB9UUZQfZuGUH2lxlB9sAZQfbpGUH3EhpB9zsaQfdkGkH3jRpB+LYaQfjfGkH4CBtB+DEbQflaG0H5gxtB+awbQfnVG0H6/htB+iccQfpQHEH6eRxB+6IcQfvLHEH79BxB+x0dQfxGHUH8bx1B/JgdQfzBHUH96h1B/RMeQf08HkH9ZR5B/o4eQf63HkH+4B5B/gkfQf8yH0H/Wx9B/4QfQf+tH0EA1x9BAAAgQQ==",
          "dtype": "f4"
         },
         "xaxis": "x",
         "y": {
          "bdata": "NTF4PjbNVj5unCE++jKYPpvSST64UeA8vp+qPp5ncz1u6AU+JJgkvfDhLzw3Q24+",
          "dtype": "f4"
         },
         "yaxis": "y"
        },
        {
         "legendgroup": "posterior_sample",
         "line": {
          "color": "rgba(0,100,255,0.1)"
         },
         "mode": "lines",
         "name": "Posterior Sample",
         "showlegend": false,
         "type": "scatter",
         "x": {
          "bdata": "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",
          "dtype": "f4"
         },
         "xaxis": "x",
         "y": {
          "bdata": "UrlvPtDVXT4osQ4+riWEPm2LXT6fNr89qp6nPkpJ1T1CcSA+4PjlOwb9gD1qaDk+",
          "dtype": "f4"
         },
         "yaxis": "y"
        },
        {
         "legendgroup": "posterior_sample",
         "line": {
          "color": "rgba(0,100,255,0.1)"
         },
         "mode": "lines",
         "name": "Posterior Sample",
         "showlegend": false,
         "type": "scatter",
         "x": {
          "bdata": "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",
          "dtype": "f4"
         },
         "xaxis": "x",
         "y": {
          "bdata": "FxJoPmelYz7QFv09f39hPmB6dT5mjic+QqClPlxUFT4BskA+IAF0PXDY9j2eRwQ+",
          "dtype": "f4"
         },
         "yaxis": "y"
        },
        {
         "legendgroup": "posterior_sample",
         "line": {
          "color": "rgba(0,100,255,0.1)"
         },
         "mode": "lines",
         "name": "Posterior Sample",
         "showlegend": false,
         "type": "scatter",
         "x": {
          "bdata": "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",
          "dtype": "f4"
         },
         "xaxis": "x",
         "y": {
          "bdata": "xDZgPisBZD6tbNw9BIszPsZKiD54ZXM+UzKjPk/8OD41fGM+FRDqPf7wOD7Q8Ko9",
          "dtype": "f4"
         },
         "yaxis": "y"
        },
        {
         "legendgroup": "posterior_sample",
         "line": {
          "color": "rgba(0,100,255,0.1)"
         },
         "mode": "lines",
         "name": "Posterior Sample",
         "showlegend": false,
         "type": "scatter",
         "x": {
          "bdata": "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",
          "dtype": "f4"
         },
         "xaxis": "x",
         "y": {
          "bdata": "IU1dPlmrZD6mAsc9xrQEPht6lj5KaZw+rvWiPtJSWz76RIY+mFwqPn2vdD48CiU9",
          "dtype": "f4"
         },
         "yaxis": "y"
        },
        {
         "legendgroup": "posterior_sample",
         "line": {
          "color": "rgba(0,100,255,0.1)"
         },
         "mode": "lines",
         "name": "Posterior Sample",
         "showlegend": false,
         "type": "scatter",
         "x": {
          "bdata": "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",
          "dtype": "f4"
         },
         "xaxis": "x",
         "y": {
          "bdata": "85RaPi4YYj46rbo9WF6vPWh9qD7dhME+mzSlPlEsdD4sKZw+yhJiPixqmj7gpoG7",
          "dtype": "f4"
         },
         "yaxis": "y"
        },
        {
         "legendgroup": "posterior_sample",
         "line": {
          "color": "rgba(0,100,255,0.1)"
         },
         "mode": "lines",
         "name": "Posterior Sample",
         "showlegend": false,
         "type": "scatter",
         "x": {
          "bdata": "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",
          "dtype": "f4"
         },
         "xaxis": "x",
         "y": {
          "bdata": "0vFcPmogYD5KCLw9tJQzPSTuuT57peY+hkelPnjbgz4jGLU+LoGMPmD/uT4gHCS9",
          "dtype": "f4"
         },
         "yaxis": "y"
        },
        {
         "legendgroup": "posterior_sample",
         "line": {
          "color": "rgba(0,100,255,0.1)"
         },
         "mode": "lines",
         "name": "Posterior Sample",
         "showlegend": false,
         "type": "scatter",
         "x": {
          "bdata": "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",
          "dtype": "f4"
         },
         "xaxis": "x",
         "y": {
          "bdata": "oJVjPiKSYT7WLcs94G2WO/onzD5GJAU/UN6nPt5YiT47qNA+dCunPsOf2D5sqI+9",
          "dtype": "f4"
         },
         "yaxis": "y"
        },
        {
         "legendgroup": "posterior_sample",
         "line": {
          "color": "rgba(0,100,255,0.1)"
         },
         "mode": "lines",
         "name": "Posterior Sample",
         "showlegend": false,
         "type": "scatter",
         "x": {
          "bdata": "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",
          "dtype": "f4"
         },
         "xaxis": "x",
         "y": {
          "bdata": "2yBsPnh9Yz7QtvY98CL0vO4i3T4XCBY/CJ+oPl+Diz7bWu0+OWm/Prqn9j58EsK9",
          "dtype": "f4"
         },
         "yaxis": "y"
        },
        {
         "legendgroup": "posterior_sample",
         "line": {
          "color": "rgba(0,100,255,0.1)"
         },
         "mode": "lines",
         "name": "Posterior Sample",
         "showlegend": false,
         "type": "scatter",
         "x": {
          "bdata": "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",
          "dtype": "f4"
         },
         "xaxis": "x",
         "y": {
          "bdata": "p394Ps2YZT6D4hM+0FBqvUqU7z72iiY/wPCqPnx9iz5PbwY/LyXXPi7cCT+8Cei9",
          "dtype": "f4"
         },
         "yaxis": "y"
        },
        {
         "legendgroup": "posterior_mean",
         "line": {
          "color": "blue"
         },
         "mode": "lines",
         "name": "Posterior Mean",
         "type": "scatter",
         "x": {
          "bdata": "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",
          "dtype": "f4"
         },
         "xaxis": "x",
         "y": {
          "bdata": "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",
          "dtype": "f4"
         },
         "yaxis": "y"
        },
        {
         "fill": "toself",
         "fillcolor": "rgba(0,100,255,0.2)",
         "legendgroup": "confidence_bounds",
         "line": {
          "color": "rgba(255,255,255,0)"
         },
         "name": "95% Confidence",
         "type": "scatter",
         "x": {
          "bdata": "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",
          "dtype": "f4"
         },
         "xaxis": "x",
         "y": {
          "bdata": "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",
          "dtype": "f4"
         },
         "yaxis": "y"
        },
        {
         "legendgroup": "true_function",
         "line": {
          "color": "red"
         },
         "mode": "lines",
         "name": "True Function",
         "type": "scatter",
         "x": {
          "bdata": "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",
          "dtype": "f4"
         },
         "xaxis": "x",
         "y": {
          "bdata": "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",
          "dtype": "f4"
         },
         "yaxis": "y"
        },
        {
         "legendgroup": "training_data",
         "marker": {
          "color": "black"
         },
         "mode": "markers",
         "name": "Training Data",
         "type": "scatter",
         "x": {
          "bdata": "BgEkPQYBpD43wcI+SAHNPokB9j7RsAI/4fAMP/IwFz/+4B4/ErErPxrRMD8a0TA/O1FFP2iBYT9sEWQ/dTFpP4Vxcz+FcXM/kSF7P89ogT/T+IM/14iGP9sYiT/8mJ0/CpGmPxBpqj8a0bA/JTm3Py1ZvD8zMcA/NXnBP0gBzT9QIdI/WEHXP1qJ2D9ogeE/asniP4tJ9z+Tafw/l/n+P9gsB0DdYApA3gQLQPGMFkDxjBZA9HgYQPbAGUD2wBlABgEkQAqRJkAdGTJAJTk3QCbdN0AoJTlAKck5QC79PEBBKUlAQ3FKQEpJTkBKSU5AUw1UQFzRWUBc0VlAY01eQG21ZEBv/WVAculnQHUxaUB6ZWxAfVFuQIA9cECAPXBAi0l3QJWxfUCYnX9Az7qBQNECg0DUnIRA1JyEQNsYiUDdYIpA4EyMQOJCjUDjOI5A6RCSQOsGk0DsqpNA7U6UQO/olUDwOpZA9MqYQPVumUD9jp5A/jKfQP/Wn0ADcaFABBWiQARnokAGr6NADs+oQBDFqUAQxalAEReqQBZLrUAX761AGJOuQBotsEAbf7BAHRmyQCFXtEAklbZAJou3QC/9vEAvT71AMPO9QDGXvkAy6b5AOWXDQEGFyEBC18hAQ3vJQEN7yUBEH8pARHHKQEZny0BIAc1ASaXNQEmlzUBN489ATofQQFAh0kBTadNAVQPVQFlB10BaN9hAXSPaQGbn30Bm599AaS/hQGol4kBqJeJAa8niQGwb40Bwq+VAdDvoQHUx6UB5wetAfK3tQHyt7UCDhfFAg9fxQIXN8kCHZ/RAigH2QI7j+ECQK/pA0DUCQdGHAkHT+ANB1mkFQdZpBUHXDQZB14gGQdgDB0HZfgdB2nQIQd9WC0HgqAtB4UwMQeHHDEHj5g1B5DgOQeUFD0HlLg9B5qkPQeb7D0HnnxBB558QQennEUHqEBJB6jkSQeo5EkHsLxNB7KoTQe9tFUHwvxVB8BEWQfGMFkHyBxdB9HgYQfTKGEH1RRlB+LYaQfnVG0H7HR1B/TweQf6OHkH+tx5B/zIfQQDXH0E=",
          "dtype": "f4"
         },
         "xaxis": "x",
         "y": {
          "bdata": "BahUPufEAz44o3q+D6sFvyn1b78PglO/7Dpzv1DcGr+mFMW+xivQPefDjD7574k+jWx2P4l3gj8jwmY/WJlZP65hvj4RUBE/Q/dUPs78UL6B5dm+mNnbvvtB6L7Gmla/OqJnvtVuWD36qBk/uMFZP4LIij8GWIY/pAFVPx//0z6+9oE+ei4yvjZLz74P2Hi/ylpcvwVXJr822Ge+gErpum+jC7/kgTe/FWksv9zzo7/gWp2/gxTEv73HqL+O+r6/bt2gv2ctpb/VAyK/hLSkvmcFSr6Wz/a93+Q7vW4Gnz1MCPY+EV35PmgDBD/CJ6c+njZkPkepnzzuhXm9ITrcvvY8N79V3iy/huRVv0uhlb9dZpe/AzeXv5P2pr+T96q/83vJvyEvoL8heZG/XmCnv4ItwL9esa+/kvjEv06b1L/6/eO/i5Xwv+c67r8Cmg7A1wQTwEQDH8BQ4CXAduAgwGcxIcAqLSvAMdcuwBX9LsAATUXAkiBFwNFzQ8AO3UfAeNVCwKPQWsCjokrAFhJHwCqaUMDqKkXAvLRKwFd5P8DvQ0bA4BNAwF6NOcBFNjfAkLE4wIDqIcCLCSbAYhwawJ8HE8Cztw3A3pz3vyMX8L8CJ/e/I+sEwMirRsDQ4CfAPLYQwCuAHcC+lgXA5Tnhv2lk0r/0eu2/MJIbwPArDsAN/2HAvTRrwFxAUsB0mQvABM+3v3C+A8AsVxjA0NdYwFDj37+k29S/G1kAwO0SHsAl5CrA1NA0wHlaRcBEVFbA4ZD0v7gQxr9nzxHAlUtMwKOOTMCM1RTAzzgSwCpx3b+MW9S/HB4XwNVcUcCc+FTAx0gEwAMVBcBJmwrAUAcSwCTTCsAF9RbAERsPwPn5FsB3sg3AOnkOwImcIMBD1SLAGHoPwDT5KcCXmSLAdBMmwP90HcBctSvAuPouwOCGI8DZhC3AMDYwwG/SLsBSDy7Aus4wwJc+LcAcNy/AG9Y9wMg1QsAnlkLA6xZEwC1xPcCzRUjAUTdNwNmjT8A180nALK9LwA75WcA8gVTAwItgwOfBZMCfBGTAAWBxwOTlcsA=",
          "dtype": "f4"
         },
         "yaxis": "y"
        },
        {
         "legendgroup": "labels",
         "marker": {
          "color": "black"
         },
         "mode": "markers",
         "name": "Labels",
         "showlegend": false,
         "type": "scatter",
         "x": {
          "bdata": "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",
          "dtype": "f4"
         },
         "xaxis": "x2",
         "y": {
          "bdata": "AwAAAAMAAAADAAAAAwAAAAMAAAADAAAAAwAAAAMAAAADAAAAAwAAAAMAAAADAAAAAwAAAAMAAAADAAAAAwAAAAMAAAADAAAAAwAAAAMAAAADAAAAAwAAAAMAAAADAAAAAwAAAAMAAAADAAAAAwAAAAMAAAADAAAAAwAAAAMAAAADAAAAAwAAAAMAAAADAAAAAwAAAAMAAAADAAAAAwAAAAMAAAADAAAAAwAAAAMAAAADAAAAAwAAAAMAAAADAAAAAwAAAAMAAAADAAAAAwAAAAMAAAADAAAAAwAAAAMAAAADAAAAAwAAAAMAAAADAAAAAwAAAAMAAAADAAAAAwAAAAMAAAADAAAAAwAAAAsAAAALAAAACwAAAAsAAAALAAAACwAAAAsAAAALAAAACwAAAAsAAAALAAAACwAAAAsAAAALAAAACwAAAAsAAAALAAAACwAAAAsAAAALAAAACwAAAAsAAAALAAAACwAAAAsAAAALAAAACwAAAAsAAAALAAAACwAAAAsAAAALAAAACwAAAAsAAAALAAAACwAAAAsAAAALAAAACwAAAAsAAAALAAAACwAAAAsAAAALAAAACwAAAAsAAAALAAAACwAAAAsAAAALAAAACwAAAAsAAAALAAAACwAAAAUAAAAFAAAABQAAAAUAAAAFAAAABQAAAAUAAAAFAAAABQAAAAUAAAAFAAAABQAAAAUAAAAFAAAABQAAAAUAAAAFAAAABQAAAAUAAAAFAAAABQAAAAUAAAAFAAAABQAAAAUAAAAFAAAABQAAAAUAAAAFAAAABQAAAAUAAAAFAAAABQAAAAUAAAAFAAAABQAAAAUAAAAFAAAABQAAAAUAAAAFAAAABQAAAAUAAAAFAAAABQAAAAUAAAAFAAAABQAAAAUAAAAFAAAABQAAAAUAAAAFAAAABQAAAAUAAAAFAAAABQAAAAUAAAAFAAAABQAAAAUAAAAFAAAABQAAAAUAAAAFAAAABQAAAAUAAAAMAAAADAAAAAwAAAAMAAAADAAAAAwAAAAMAAAADAAAAAwAAAAMAAAADAAAAAwAAAAMAAAADAAAAAwAAAAMAAAADAAAAAwAAAAMAAAADAAAAAwAAAAMAAAADAAAAAwAAAAMAAAADAAAAAwAAAAMAAAADAAAAAwAAAAMAAAADAAAAAwAAAAMAAAADAAAAAwAAAAMAAAADAAAAAwAAAAMAAAADAAAAAwAAAAMAAAADAAAAAwAAAAMAAAADAAAAAwAAAAMAAAADAAAAAwAAAAMAAAADAAAAAwAAAAMAAAADAAAAAwAAAAMAAAADAAAAAwAAAAMAAAADAAAAAwAAAAMAAAADAAAAAwAAAAMAAAADAAAAAwAAAAMAAAADAAAAAwAAAABAAAAAQAAAAEAAAABAAAAAQAAAAEAAAABAAAAAQAAAAEAAAABAAAAAQAAAAEAAAABAAAAAQAAAAEAAAABAAAAAQAAAAEAAAABAAAAAQAAAAEAAAABAAAAAQAAAAEAAAABAAAAAQAAAAEAAAABAAAAAQAAAAEAAAABAAAAAQAAAAEAAAABAAAAAQAAAAEAAAABAAAAAQAAAAEAAAABAAAAAQAAAAEAAAABAAAAAQAAAAEAAAABAAAAAQAAAAEAAAABAAAAAQAAAAEAAAABAAAAAQAAAAEAAAABAAAAAQAAAAEAAAABAAAAAQAAAAEAAAABAAAAAQAAAAEAAAABAAAAAQAAAAEAAAABAAAAAQAAAAEAAAAIAAAACAAAAAgAAAAIAAAACAAAAAgAAAAIAAAACAAAAAgAAAAIAAAACAAAAAgAAAAIAAAACAAAAAgAAAAIAAAACAAAAAgAAAAIAAAACAAAAAgAAAAIAAAACAAAAAgAAAAIAAAACAAAAAgAAAAIAAAACAAAAAgAAAAIAAAACAAAAAgAAAAIAAAACAAAAAgAAAAIAAAACAAAAAgAAAAIAAAACAAAAAgAAAAIAAAACAAAAAgAAAAIAAAACAAAAAgAAAAIAAAACAAAAAgAAAAIAAAACAAAAAgAAAAIAAAACAAAAAgAAAAIAAAACAAAAAgAAAAIAAAADgAAAA4AAAAOAAAADgAAAA4AAAAOAAAADgAAAA4AAAAOAAAADgAAAA4AAAAOAAAADgAAAA4AAAAOAAAADgAAAA4AAAAOAAAADgAAAA4AAAAOAAAADgAAAA4AAAAOAAAADgAAAA4AAAAOAAAADgAAAA4AAAAOAAAADgAAAA4AAAAOAAAADgAAAA4AAAAOAAAADgAAAA4AAAAOAAAADgAAAA4AAAAOAAAADgAAAA4AAAAOAAAADgAAAA4AAAAOAAAADgAAAA4AAAAOAAAADgAAAA4AAAAOAAAADgAAAA4AAAAOAAAADgAAAA4AAAAOAAAADgAAAA4AAAAEAAAABAAAAAQAAAAEAAAABAAAAAQAAAAEAAAABAAAAAQAAAAEAAAABAAAAAQAAAAEAAAABAAAAAQAAAAEAAAABAAAAAQAAAAEAAAABAAAAAQAAAAEAAAABAAAAAQAAAAEAAAABAAAAAQAAAAEAAAABAAAAAQAAAAEAAAABAAAAAQAAAAEAAAABAAAAAQAAAAEAAAABAAAAAQAAAAEAAAABAAAAAQAAAAEAAAABAAAAAQAAAAEAAAABAAAAAQAAAAEAAAABAAAAAQAAAAEAAAABAAAAAQAAAAEAAAABAAAAAQAAAAEAAAABAAAAAQAAAAEAAAABAAAAAQAAAAEAAAADQAAAA0AAAANAAAADQAAAA0AAAANAAAADQAAAA0AAAANAAAADQAAAA0AAAANAAAADQAAAA0AAAANAAAADQAAAA0AAAANAAAADQAAAA0AAAANAAAADQAAAA0AAAANAAAADQAAAA0AAAANAAAADQAAAA0AAAANAAAADQAAAA0AAAANAAAADQAAAA0AAAANAAAADQAAAA0AAAANAAAADQAAAA0AAAANAAAADQAAAA0AAAANAAAADQAAAA0AAAANAAAADQAAAA0AAAANAAAADQAAAA0AAAANAAAADQAAAA0AAAANAAAADQAAAA0AAAANAAAADQAAAA0AAAANAAAADQAAAA0AAAANAAAADQAAAA0AAAANAAAADQAAAAcAAAAHAAAABwAAAAcAAAAHAAAABwAAAAcAAAAHAAAABwAAAAcAAAAHAAAABwAAAAcAAAAHAAAABwAAAAcAAAAHAAAABwAAAAcAAAAHAAAABwAAAAcAAAAHAAAABwAAAAcAAAAHAAAABwAAAAcAAAAHAAAABwAAAAcAAAAHAAAABwAAAAcAAAAHAAAABwAAAAcAAAAHAAAABwAAAAcAAAAHAAAABwAAAAcAAAAHAAAABwAAAAcAAAAHAAAABwAAAAcAAAAHAAAABwAAAAcAAAAHAAAABwAAAAcAAAAHAAAABwAAAAcAAAAHAAAABwAAAAcAAAAHAAAABwAAAAcAAAAHAAAABwAAAAcAAAAHAAAABwAAAAcAAAAHAAAABwAAAAcAAAACAAAAAgAAAAIAAAACAAAAAgAAAAIAAAACAAAAAgAAAAIAAAACAAAAAgAAAAIAAAACAAAAAgAAAAIAAAACAAAAAgAAAAIAAAACAAAAAgAAAAIAAAACAAAAAgAAAAIAAAACAAAAAgAAAAIAAAACAAAAAgAAAAIAAAACAAAAAgAAAAIAAAACAAAAAgAAAAIAAAACAAAAAgAAAAIAAAACAAAAAgAAAAIAAAACAAAAAgAAAAIAAAACAAAAAgAAAAIAAAACAAAAAgAAAAIAAAACAAAAAgAAAAIAAAACAAAAAgAAAAIAAAACAAAAAgAAAAIAAAACAAAAAgAAAAIAAAACAAAABgAAAAYAAAAGAAAABgAAAAYAAAAGAAAABgAAAAYAAAAGAAAABgAAAAYAAAAGAAAABgAAAAYAAAAGAAAABgAAAAYAAAAGAAAABgAAAAYAAAAGAAAABgAAAAYAAAAGAAAABgAAAAYAAAAGAAAABgAAAAYAAAAGAAAABgAAAAYAAAAGAAAABgAAAAYAAAAGAAAABgAAAAYAAAAGAAAABgAAAAYAAAAGAAAABgAAAAYAAAAGAAAABgAAAAYAAAAGAAAABgAAAAYAAAAGAAAABgAAAAYAAAAGAAAABgAAAAYAAAAGAAAABgAAAAYAAAAGAAAABgAAAAYAAAAGAAAABgAAAAYAAAAGAAAABgAAAAYAAAAGAAAABgAAAAYAAAAKAAAACgAAAAoAAAAKAAAACgAAAAoAAAAKAAAACgAAAAoAAAAKAAAACgAAAAoAAAAKAAAACgAAAAoAAAAKAAAACgAAAAoAAAAKAAAACgAAAAoAAAAKAAAACgAAAAoAAAAKAAAACgAAAAoAAAAKAAAACgAAAAoAAAAKAAAACgAAAAoAAAAKAAAACgAAAAoAAAAKAAAACgAAAAoAAAAKAAAACgAAAAoAAAAKAAAACgAAAAoAAAAKAAAACgAAAAoAAAAKAAAACgAAAAoAAAAKAAAACgAAAAoAAAAKAAAACgAAAAoAAAAKAAAACgAAAAoAAAAKAAAACgAAAAoAAAAKAAAACgAAAAoAAAAKAAAACgAAAAoAAAAKAAAACgAAAAoAAAAAAAAAAAAAAAAAAAAAAAAAAAAAAAAAAAAAAAAAAAAAAAAAAAAAAAAAAAAAAAAAAAAAAAAAAAAAAAAAAAAAAAAAAAAAAAAAAAAAAAAAAAAAAAAAAAAAAAAAAAAAAAAAAAAAAAAAAAAAAAAAAAAAAAAAAAAAAAAAAAAAAAAAAAAAAAAAAAAAAAAAAAAAAAAAAAAAAAAAAAAAAAAAAAAAAAAAAAAAAAAAAAAAAAAAAAAAAAAAAAAAAAAAAAAAAAAAAAAAAAAAAAAAAAAAAAAAAAAAAAAAAAAAAAAAAAAAAAAAAAAAAAAAAAAAAAAAAAAAAAAAAAAAAAAAAAAAAAAAAAAAAAAAAAkAAAAJAAAACQAAAAkAAAAJAAAACQAAAAkAAAAJAAAACQAAAAkAAAAJAAAACQAAAAkAAAAJAAAACQAAAAkAAAAJAAAACQAAAAkAAAAJAAAACQAAAAkAAAAJAAAACQAAAAkAAAAJAAAACQAAAAkAAAAJAAAACQAAAAkAAAAJAAAACQAAAAkAAAAJAAAACQAAAAkAAAAJAAAACQAAAAkAAAAJAAAACQAAAAkAAAAJAAAACQAAAAkAAAAJAAAACQAAAAkAAAAJAAAACQAAAAkAAAAJAAAACQAAAAkAAAAJAAAACQAAAAkAAAAJAAAACQAAAAkAAAAJAAAACQAAAAkAAAAJAAAACQAAAAkAAAAJAAAACQAAAA==",
          "dtype": "i4"
         },
         "yaxis": "y2"
        }
       ],
       "layout": {
        "legend": {
         "orientation": "h",
         "x": 1,
         "xanchor": "right",
         "y": 1.02,
         "yanchor": "bottom"
        },
        "template": {
         "data": {
          "bar": [
           {
            "error_x": {
             "color": "#2a3f5f"
            },
            "error_y": {
             "color": "#2a3f5f"
            },
            "marker": {
             "line": {
              "color": "#E5ECF6",
              "width": 0.5
             },
             "pattern": {
              "fillmode": "overlay",
              "size": 10,
              "solidity": 0.2
             }
            },
            "type": "bar"
           }
          ],
          "barpolar": [
           {
            "marker": {
             "line": {
              "color": "#E5ECF6",
              "width": 0.5
             },
             "pattern": {
              "fillmode": "overlay",
              "size": 10,
              "solidity": 0.2
             }
            },
            "type": "barpolar"
           }
          ],
          "carpet": [
           {
            "aaxis": {
             "endlinecolor": "#2a3f5f",
             "gridcolor": "white",
             "linecolor": "white",
             "minorgridcolor": "white",
             "startlinecolor": "#2a3f5f"
            },
            "baxis": {
             "endlinecolor": "#2a3f5f",
             "gridcolor": "white",
             "linecolor": "white",
             "minorgridcolor": "white",
             "startlinecolor": "#2a3f5f"
            },
            "type": "carpet"
           }
          ],
          "choropleth": [
           {
            "colorbar": {
             "outlinewidth": 0,
             "ticks": ""
            },
            "type": "choropleth"
           }
          ],
          "contour": [
           {
            "colorbar": {
             "outlinewidth": 0,
             "ticks": ""
            },
            "colorscale": [
             [
              0,
              "#0d0887"
             ],
             [
              0.1111111111111111,
              "#46039f"
             ],
             [
              0.2222222222222222,
              "#7201a8"
             ],
             [
              0.3333333333333333,
              "#9c179e"
             ],
             [
              0.4444444444444444,
              "#bd3786"
             ],
             [
              0.5555555555555556,
              "#d8576b"
             ],
             [
              0.6666666666666666,
              "#ed7953"
             ],
             [
              0.7777777777777778,
              "#fb9f3a"
             ],
             [
              0.8888888888888888,
              "#fdca26"
             ],
             [
              1,
              "#f0f921"
             ]
            ],
            "type": "contour"
           }
          ],
          "contourcarpet": [
           {
            "colorbar": {
             "outlinewidth": 0,
             "ticks": ""
            },
            "type": "contourcarpet"
           }
          ],
          "heatmap": [
           {
            "colorbar": {
             "outlinewidth": 0,
             "ticks": ""
            },
            "colorscale": [
             [
              0,
              "#0d0887"
             ],
             [
              0.1111111111111111,
              "#46039f"
             ],
             [
              0.2222222222222222,
              "#7201a8"
             ],
             [
              0.3333333333333333,
              "#9c179e"
             ],
             [
              0.4444444444444444,
              "#bd3786"
             ],
             [
              0.5555555555555556,
              "#d8576b"
             ],
             [
              0.6666666666666666,
              "#ed7953"
             ],
             [
              0.7777777777777778,
              "#fb9f3a"
             ],
             [
              0.8888888888888888,
              "#fdca26"
             ],
             [
              1,
              "#f0f921"
             ]
            ],
            "type": "heatmap"
           }
          ],
          "histogram": [
           {
            "marker": {
             "pattern": {
              "fillmode": "overlay",
              "size": 10,
              "solidity": 0.2
             }
            },
            "type": "histogram"
           }
          ],
          "histogram2d": [
           {
            "colorbar": {
             "outlinewidth": 0,
             "ticks": ""
            },
            "colorscale": [
             [
              0,
              "#0d0887"
             ],
             [
              0.1111111111111111,
              "#46039f"
             ],
             [
              0.2222222222222222,
              "#7201a8"
             ],
             [
              0.3333333333333333,
              "#9c179e"
             ],
             [
              0.4444444444444444,
              "#bd3786"
             ],
             [
              0.5555555555555556,
              "#d8576b"
             ],
             [
              0.6666666666666666,
              "#ed7953"
             ],
             [
              0.7777777777777778,
              "#fb9f3a"
             ],
             [
              0.8888888888888888,
              "#fdca26"
             ],
             [
              1,
              "#f0f921"
             ]
            ],
            "type": "histogram2d"
           }
          ],
          "histogram2dcontour": [
           {
            "colorbar": {
             "outlinewidth": 0,
             "ticks": ""
            },
            "colorscale": [
             [
              0,
              "#0d0887"
             ],
             [
              0.1111111111111111,
              "#46039f"
             ],
             [
              0.2222222222222222,
              "#7201a8"
             ],
             [
              0.3333333333333333,
              "#9c179e"
             ],
             [
              0.4444444444444444,
              "#bd3786"
             ],
             [
              0.5555555555555556,
              "#d8576b"
             ],
             [
              0.6666666666666666,
              "#ed7953"
             ],
             [
              0.7777777777777778,
              "#fb9f3a"
             ],
             [
              0.8888888888888888,
              "#fdca26"
             ],
             [
              1,
              "#f0f921"
             ]
            ],
            "type": "histogram2dcontour"
           }
          ],
          "mesh3d": [
           {
            "colorbar": {
             "outlinewidth": 0,
             "ticks": ""
            },
            "type": "mesh3d"
           }
          ],
          "parcoords": [
           {
            "line": {
             "colorbar": {
              "outlinewidth": 0,
              "ticks": ""
             }
            },
            "type": "parcoords"
           }
          ],
          "pie": [
           {
            "automargin": true,
            "type": "pie"
           }
          ],
          "scatter": [
           {
            "fillpattern": {
             "fillmode": "overlay",
             "size": 10,
             "solidity": 0.2
            },
            "type": "scatter"
           }
          ],
          "scatter3d": [
           {
            "line": {
             "colorbar": {
              "outlinewidth": 0,
              "ticks": ""
             }
            },
            "marker": {
             "colorbar": {
              "outlinewidth": 0,
              "ticks": ""
             }
            },
            "type": "scatter3d"
           }
          ],
          "scattercarpet": [
           {
            "marker": {
             "colorbar": {
              "outlinewidth": 0,
              "ticks": ""
             }
            },
            "type": "scattercarpet"
           }
          ],
          "scattergeo": [
           {
            "marker": {
             "colorbar": {
              "outlinewidth": 0,
              "ticks": ""
             }
            },
            "type": "scattergeo"
           }
          ],
          "scattergl": [
           {
            "marker": {
             "colorbar": {
              "outlinewidth": 0,
              "ticks": ""
             }
            },
            "type": "scattergl"
           }
          ],
          "scattermap": [
           {
            "marker": {
             "colorbar": {
              "outlinewidth": 0,
              "ticks": ""
             }
            },
            "type": "scattermap"
           }
          ],
          "scattermapbox": [
           {
            "marker": {
             "colorbar": {
              "outlinewidth": 0,
              "ticks": ""
             }
            },
            "type": "scattermapbox"
           }
          ],
          "scatterpolar": [
           {
            "marker": {
             "colorbar": {
              "outlinewidth": 0,
              "ticks": ""
             }
            },
            "type": "scatterpolar"
           }
          ],
          "scatterpolargl": [
           {
            "marker": {
             "colorbar": {
              "outlinewidth": 0,
              "ticks": ""
             }
            },
            "type": "scatterpolargl"
           }
          ],
          "scatterternary": [
           {
            "marker": {
             "colorbar": {
              "outlinewidth": 0,
              "ticks": ""
             }
            },
            "type": "scatterternary"
           }
          ],
          "surface": [
           {
            "colorbar": {
             "outlinewidth": 0,
             "ticks": ""
            },
            "colorscale": [
             [
              0,
              "#0d0887"
             ],
             [
              0.1111111111111111,
              "#46039f"
             ],
             [
              0.2222222222222222,
              "#7201a8"
             ],
             [
              0.3333333333333333,
              "#9c179e"
             ],
             [
              0.4444444444444444,
              "#bd3786"
             ],
             [
              0.5555555555555556,
              "#d8576b"
             ],
             [
              0.6666666666666666,
              "#ed7953"
             ],
             [
              0.7777777777777778,
              "#fb9f3a"
             ],
             [
              0.8888888888888888,
              "#fdca26"
             ],
             [
              1,
              "#f0f921"
             ]
            ],
            "type": "surface"
           }
          ],
          "table": [
           {
            "cells": {
             "fill": {
              "color": "#EBF0F8"
             },
             "line": {
              "color": "white"
             }
            },
            "header": {
             "fill": {
              "color": "#C8D4E3"
             },
             "line": {
              "color": "white"
             }
            },
            "type": "table"
           }
          ]
         },
         "layout": {
          "annotationdefaults": {
           "arrowcolor": "#2a3f5f",
           "arrowhead": 0,
           "arrowwidth": 1
          },
          "autotypenumbers": "strict",
          "coloraxis": {
           "colorbar": {
            "outlinewidth": 0,
            "ticks": ""
           }
          },
          "colorscale": {
           "diverging": [
            [
             0,
             "#8e0152"
            ],
            [
             0.1,
             "#c51b7d"
            ],
            [
             0.2,
             "#de77ae"
            ],
            [
             0.3,
             "#f1b6da"
            ],
            [
             0.4,
             "#fde0ef"
            ],
            [
             0.5,
             "#f7f7f7"
            ],
            [
             0.6,
             "#e6f5d0"
            ],
            [
             0.7,
             "#b8e186"
            ],
            [
             0.8,
             "#7fbc41"
            ],
            [
             0.9,
             "#4d9221"
            ],
            [
             1,
             "#276419"
            ]
           ],
           "sequential": [
            [
             0,
             "#0d0887"
            ],
            [
             0.1111111111111111,
             "#46039f"
            ],
            [
             0.2222222222222222,
             "#7201a8"
            ],
            [
             0.3333333333333333,
             "#9c179e"
            ],
            [
             0.4444444444444444,
             "#bd3786"
            ],
            [
             0.5555555555555556,
             "#d8576b"
            ],
            [
             0.6666666666666666,
             "#ed7953"
            ],
            [
             0.7777777777777778,
             "#fb9f3a"
            ],
            [
             0.8888888888888888,
             "#fdca26"
            ],
            [
             1,
             "#f0f921"
            ]
           ],
           "sequentialminus": [
            [
             0,
             "#0d0887"
            ],
            [
             0.1111111111111111,
             "#46039f"
            ],
            [
             0.2222222222222222,
             "#7201a8"
            ],
            [
             0.3333333333333333,
             "#9c179e"
            ],
            [
             0.4444444444444444,
             "#bd3786"
            ],
            [
             0.5555555555555556,
             "#d8576b"
            ],
            [
             0.6666666666666666,
             "#ed7953"
            ],
            [
             0.7777777777777778,
             "#fb9f3a"
            ],
            [
             0.8888888888888888,
             "#fdca26"
            ],
            [
             1,
             "#f0f921"
            ]
           ]
          },
          "colorway": [
           "#636efa",
           "#EF553B",
           "#00cc96",
           "#ab63fa",
           "#FFA15A",
           "#19d3f3",
           "#FF6692",
           "#B6E880",
           "#FF97FF",
           "#FECB52"
          ],
          "font": {
           "color": "#2a3f5f"
          },
          "geo": {
           "bgcolor": "white",
           "lakecolor": "white",
           "landcolor": "#E5ECF6",
           "showlakes": true,
           "showland": true,
           "subunitcolor": "white"
          },
          "hoverlabel": {
           "align": "left"
          },
          "hovermode": "closest",
          "mapbox": {
           "style": "light"
          },
          "paper_bgcolor": "white",
          "plot_bgcolor": "#E5ECF6",
          "polar": {
           "angularaxis": {
            "gridcolor": "white",
            "linecolor": "white",
            "ticks": ""
           },
           "bgcolor": "#E5ECF6",
           "radialaxis": {
            "gridcolor": "white",
            "linecolor": "white",
            "ticks": ""
           }
          },
          "scene": {
           "xaxis": {
            "backgroundcolor": "#E5ECF6",
            "gridcolor": "white",
            "gridwidth": 2,
            "linecolor": "white",
            "showbackground": true,
            "ticks": "",
            "zerolinecolor": "white"
           },
           "yaxis": {
            "backgroundcolor": "#E5ECF6",
            "gridcolor": "white",
            "gridwidth": 2,
            "linecolor": "white",
            "showbackground": true,
            "ticks": "",
            "zerolinecolor": "white"
           },
           "zaxis": {
            "backgroundcolor": "#E5ECF6",
            "gridcolor": "white",
            "gridwidth": 2,
            "linecolor": "white",
            "showbackground": true,
            "ticks": "",
            "zerolinecolor": "white"
           }
          },
          "shapedefaults": {
           "line": {
            "color": "#2a3f5f"
           }
          },
          "ternary": {
           "aaxis": {
            "gridcolor": "white",
            "linecolor": "white",
            "ticks": ""
           },
           "baxis": {
            "gridcolor": "white",
            "linecolor": "white",
            "ticks": ""
           },
           "bgcolor": "#E5ECF6",
           "caxis": {
            "gridcolor": "white",
            "linecolor": "white",
            "ticks": ""
           }
          },
          "title": {
           "x": 0.05
          },
          "xaxis": {
           "automargin": true,
           "gridcolor": "white",
           "linecolor": "white",
           "ticks": "",
           "title": {
            "standoff": 15
           },
           "zerolinecolor": "white",
           "zerolinewidth": 2
          },
          "yaxis": {
           "automargin": true,
           "gridcolor": "white",
           "linecolor": "white",
           "ticks": "",
           "title": {
            "standoff": 15
           },
           "zerolinecolor": "white",
           "zerolinewidth": 2
          }
         }
        },
        "title": {
         "text": "GP Posterior vs True Function"
        },
        "xaxis": {
         "anchor": "y",
         "domain": [
          0,
          1
         ],
         "range": [
          0,
          10
         ]
        },
        "xaxis2": {
         "anchor": "y2",
         "domain": [
          0,
          1
         ],
         "range": [
          0,
          10
         ],
         "title": {
          "text": "x"
         }
        },
        "yaxis": {
         "anchor": "x",
         "domain": [
          0.575,
          1
         ],
         "title": {
          "text": "y"
         }
        },
        "yaxis2": {
         "anchor": "x2",
         "domain": [
          0,
          0.425
         ],
         "title": {
          "text": "Cluster Index"
         }
        }
       }
      }
     },
     "metadata": {},
     "output_type": "display_data"
    }
   ],
   "source": [
    "# Plot the posterior results and the warped results\n",
    "fig = subplots.make_subplots(rows=2, cols=1)\n",
    "\n",
    "# Plot posterior samples\n",
    "for i in range(num_posterior_samples):\n",
    "    fig.add_trace(\n",
    "        go.Scatter(\n",
    "            x=true_x,\n",
    "            y=samples[i],\n",
    "            mode=\"lines\",\n",
    "            line=dict(color=\"rgba(0,100,255,0.1)\"),\n",
    "            name=\"Posterior Sample\",\n",
    "            legendgroup=\"posterior_sample\",\n",
    "            showlegend=(i == 0),\n",
    "        ),\n",
    "        row=1,\n",
    "        col=1,\n",
    "    )\n",
    "\n",
    "# Plot mean prediction\n",
    "fig.add_trace(\n",
    "    go.Scatter(\n",
    "        x=true_x,\n",
    "        y=mean,\n",
    "        mode=\"lines\",\n",
    "        line=dict(color=\"blue\"),\n",
    "        name=\"Posterior Mean\",\n",
    "        legendgroup=\"posterior_mean\",\n",
    "    ),\n",
    "    row=1,\n",
    "    col=1,\n",
    ")\n",
    "\n",
    "# Plot confidence bounds\n",
    "fig.add_trace(\n",
    "    go.Scatter(\n",
    "        x=torch.cat([true_x, true_x.flip(0)]),\n",
    "        y=torch.cat([upper, lower.flip(0)]),\n",
    "        fill=\"toself\",\n",
    "        fillcolor=\"rgba(0,100,255,0.2)\",\n",
    "        line=dict(color=\"rgba(255,255,255,0)\"),\n",
    "        name=\"95% Confidence\",\n",
    "        legendgroup=\"confidence_bounds\",\n",
    "    ),\n",
    "    row=1,\n",
    "    col=1,\n",
    ")\n",
    "\n",
    "# Plot true function\n",
    "fig.add_trace(\n",
    "    go.Scatter(\n",
    "        x=true_x,\n",
    "        y=true_y,\n",
    "        mode=\"lines\",\n",
    "        line=dict(color=\"red\"),\n",
    "        name=\"True Function\",\n",
    "        legendgroup=\"true_function\",\n",
    "    ),\n",
    "    row=1,\n",
    "    col=1,\n",
    ")\n",
    "\n",
    "# Plot training data\n",
    "fig.add_trace(\n",
    "    go.Scatter(\n",
    "        x=train_x.view(-1),\n",
    "        y=train_y.view(-1),\n",
    "        mode=\"markers\",\n",
    "        marker=dict(color=\"black\"),\n",
    "        name=\"Training Data\",\n",
    "        legendgroup=\"training_data\",\n",
    "    ),\n",
    "    row=1,\n",
    "    col=1,\n",
    ")\n",
    "\n",
    "# Plot labels\n",
    "fig.add_trace(\n",
    "    go.Scatter(\n",
    "        x=true_x,\n",
    "        y=labels,\n",
    "        mode=\"markers\",\n",
    "        marker=dict(color=\"black\"),\n",
    "        name=\"Labels\",\n",
    "        legendgroup=\"labels\",\n",
    "        showlegend=False,\n",
    "    ),\n",
    "    row=2,\n",
    "    col=1,\n",
    ")\n",
    "\n",
    "# Update layout\n",
    "fig.update_xaxes(range=[0, 10], row=1, col=1)\n",
    "fig.update_xaxes(range=[0, 10], row=2, col=1)\n",
    "fig.update_layout(title=\"GP Posterior vs True Function\")\n",
    "fig.update_xaxes(title_text=\"x\", row=2, col=1)\n",
    "fig.update_yaxes(title_text=\"y\", row=1, col=1)\n",
    "fig.update_yaxes(title_text=\"Cluster Index\", row=2, col=1)\n",
    "fig.update_layout(\n",
    "    legend=dict(orientation=\"h\", yanchor=\"bottom\", y=1.02, xanchor=\"right\", x=1)\n",
    ")\n",
    "\n",
    "if image_type == \"html\":\n",
    "    fig.show()\n",
    "elif image_type == \"static\":\n",
    "    display(Image(fig.to_image(format=\"png\", width=900, height=350)))"
   ]
  }
 ],
 "metadata": {
  "kernelspec": {
   "display_name": ".venv",
   "language": "python",
   "name": "python3"
  },
  "language_info": {
   "codemirror_mode": {
    "name": "ipython",
    "version": 3
   },
   "file_extension": ".py",
   "mimetype": "text/x-python",
   "name": "python",
   "nbconvert_exporter": "python",
   "pygments_lexer": "ipython3",
   "version": "3.12.2"
  }
 },
 "nbformat": 4,
 "nbformat_minor": 2
}
